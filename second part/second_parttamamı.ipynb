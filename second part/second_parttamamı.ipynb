{
 "cells": [
  {
   "cell_type": "code",
   "execution_count": 1,
   "metadata": {},
   "outputs": [],
   "source": [
    "import numpy as np\n",
    "import pandas as pd\n",
    "import seaborn as sns \n",
    "import matplotlib.pyplot as plt\n",
    "import sklearn as sk\n",
    "from sklearn import model_selection as ms\n",
    "from sklearn.preprocessing import LabelEncoder\n",
    "from sklearn.linear_model import LinearRegression"
   ]
  },
  {
   "cell_type": "markdown",
   "metadata": {},
   "source": [
    "## Preparing columns to add to mainframe"
   ]
  },
  {
   "cell_type": "markdown",
   "metadata": {},
   "source": [
    "### Preparing main dataframe"
   ]
  },
  {
   "cell_type": "code",
   "execution_count": 2,
   "metadata": {},
   "outputs": [],
   "source": [
    "df2 = pd.read_csv(\"countries_of_the_world_edit.csv\")"
   ]
  },
  {
   "cell_type": "code",
   "execution_count": 3,
   "metadata": {},
   "outputs": [],
   "source": [
    "df2[\"Country\"] = df2[\"Country\"].str.rstrip()"
   ]
  },
  {
   "cell_type": "code",
   "execution_count": 4,
   "metadata": {},
   "outputs": [
    {
     "data": {
      "text/html": [
       "<div>\n",
       "<style scoped>\n",
       "    .dataframe tbody tr th:only-of-type {\n",
       "        vertical-align: middle;\n",
       "    }\n",
       "\n",
       "    .dataframe tbody tr th {\n",
       "        vertical-align: top;\n",
       "    }\n",
       "\n",
       "    .dataframe thead th {\n",
       "        text-align: right;\n",
       "    }\n",
       "</style>\n",
       "<table border=\"1\" class=\"dataframe\">\n",
       "  <thead>\n",
       "    <tr style=\"text-align: right;\">\n",
       "      <th></th>\n",
       "      <th>Country</th>\n",
       "      <th>Region</th>\n",
       "      <th>Population</th>\n",
       "      <th>Area (sq. mi.)</th>\n",
       "      <th>Pop. Density (per sq. mi.)</th>\n",
       "      <th>Coastline (coast/area ratio)</th>\n",
       "      <th>Net migration</th>\n",
       "      <th>Infant mortality (per 1000 births)</th>\n",
       "      <th>GDP ($ per capita)</th>\n",
       "      <th>Literacy (%)</th>\n",
       "      <th>Phones (per 1000)</th>\n",
       "      <th>Arable (%)</th>\n",
       "      <th>Crops (%)</th>\n",
       "      <th>Other (%)</th>\n",
       "      <th>Birthrate</th>\n",
       "      <th>Deathrate</th>\n",
       "      <th>Agriculture</th>\n",
       "      <th>Industry</th>\n",
       "      <th>Service</th>\n",
       "    </tr>\n",
       "  </thead>\n",
       "  <tbody>\n",
       "    <tr>\n",
       "      <th>0</th>\n",
       "      <td>Afghanistan</td>\n",
       "      <td>ASIA (EX. NEAR EAST)</td>\n",
       "      <td>31056997</td>\n",
       "      <td>647500</td>\n",
       "      <td>48.0</td>\n",
       "      <td>0.00</td>\n",
       "      <td>23.06</td>\n",
       "      <td>163.07</td>\n",
       "      <td>700.0</td>\n",
       "      <td>36.0</td>\n",
       "      <td>3.2</td>\n",
       "      <td>12.13</td>\n",
       "      <td>0.22</td>\n",
       "      <td>87.65</td>\n",
       "      <td>46.60</td>\n",
       "      <td>20.34</td>\n",
       "      <td>0.380</td>\n",
       "      <td>0.240</td>\n",
       "      <td>0.380</td>\n",
       "    </tr>\n",
       "    <tr>\n",
       "      <th>1</th>\n",
       "      <td>Albania</td>\n",
       "      <td>EASTERN EUROPE</td>\n",
       "      <td>3581655</td>\n",
       "      <td>28748</td>\n",
       "      <td>124.6</td>\n",
       "      <td>1.26</td>\n",
       "      <td>-4.93</td>\n",
       "      <td>21.52</td>\n",
       "      <td>4500.0</td>\n",
       "      <td>86.5</td>\n",
       "      <td>71.2</td>\n",
       "      <td>21.09</td>\n",
       "      <td>4.42</td>\n",
       "      <td>74.49</td>\n",
       "      <td>15.11</td>\n",
       "      <td>5.22</td>\n",
       "      <td>0.232</td>\n",
       "      <td>0.188</td>\n",
       "      <td>0.579</td>\n",
       "    </tr>\n",
       "    <tr>\n",
       "      <th>2</th>\n",
       "      <td>Algeria</td>\n",
       "      <td>NORTHERN AFRICA</td>\n",
       "      <td>32930091</td>\n",
       "      <td>2381740</td>\n",
       "      <td>13.8</td>\n",
       "      <td>0.04</td>\n",
       "      <td>-0.39</td>\n",
       "      <td>31.00</td>\n",
       "      <td>6000.0</td>\n",
       "      <td>70.0</td>\n",
       "      <td>78.1</td>\n",
       "      <td>3.22</td>\n",
       "      <td>0.25</td>\n",
       "      <td>96.53</td>\n",
       "      <td>17.14</td>\n",
       "      <td>4.61</td>\n",
       "      <td>0.101</td>\n",
       "      <td>0.600</td>\n",
       "      <td>0.298</td>\n",
       "    </tr>\n",
       "    <tr>\n",
       "      <th>3</th>\n",
       "      <td>American Samoa</td>\n",
       "      <td>OCEANIA</td>\n",
       "      <td>57794</td>\n",
       "      <td>199</td>\n",
       "      <td>290.4</td>\n",
       "      <td>58.29</td>\n",
       "      <td>-20.71</td>\n",
       "      <td>9.27</td>\n",
       "      <td>8000.0</td>\n",
       "      <td>97.0</td>\n",
       "      <td>259.5</td>\n",
       "      <td>10.00</td>\n",
       "      <td>15.00</td>\n",
       "      <td>75.00</td>\n",
       "      <td>22.46</td>\n",
       "      <td>3.27</td>\n",
       "      <td>1.000</td>\n",
       "      <td>0.000</td>\n",
       "      <td>0.000</td>\n",
       "    </tr>\n",
       "    <tr>\n",
       "      <th>4</th>\n",
       "      <td>Andorra</td>\n",
       "      <td>WESTERN EUROPE</td>\n",
       "      <td>71201</td>\n",
       "      <td>468</td>\n",
       "      <td>152.1</td>\n",
       "      <td>0.00</td>\n",
       "      <td>6.60</td>\n",
       "      <td>4.05</td>\n",
       "      <td>19000.0</td>\n",
       "      <td>100.0</td>\n",
       "      <td>497.2</td>\n",
       "      <td>2.22</td>\n",
       "      <td>0.00</td>\n",
       "      <td>97.78</td>\n",
       "      <td>8.71</td>\n",
       "      <td>6.25</td>\n",
       "      <td>1.000</td>\n",
       "      <td>0.000</td>\n",
       "      <td>0.000</td>\n",
       "    </tr>\n",
       "  </tbody>\n",
       "</table>\n",
       "</div>"
      ],
      "text/plain": [
       "          Country                               Region  Population  \\\n",
       "0     Afghanistan        ASIA (EX. NEAR EAST)             31056997   \n",
       "1         Albania  EASTERN EUROPE                          3581655   \n",
       "2         Algeria  NORTHERN AFRICA                        32930091   \n",
       "3  American Samoa  OCEANIA                                   57794   \n",
       "4         Andorra  WESTERN EUROPE                            71201   \n",
       "\n",
       "   Area (sq. mi.)  Pop. Density (per sq. mi.)  Coastline (coast/area ratio)  \\\n",
       "0          647500                        48.0                          0.00   \n",
       "1           28748                       124.6                          1.26   \n",
       "2         2381740                        13.8                          0.04   \n",
       "3             199                       290.4                         58.29   \n",
       "4             468                       152.1                          0.00   \n",
       "\n",
       "   Net migration  Infant mortality (per 1000 births)  GDP ($ per capita)  \\\n",
       "0          23.06                              163.07               700.0   \n",
       "1          -4.93                               21.52              4500.0   \n",
       "2          -0.39                               31.00              6000.0   \n",
       "3         -20.71                                9.27              8000.0   \n",
       "4           6.60                                4.05             19000.0   \n",
       "\n",
       "   Literacy (%)  Phones (per 1000)  Arable (%)  Crops (%)  Other (%)  \\\n",
       "0          36.0                3.2       12.13       0.22      87.65   \n",
       "1          86.5               71.2       21.09       4.42      74.49   \n",
       "2          70.0               78.1        3.22       0.25      96.53   \n",
       "3          97.0              259.5       10.00      15.00      75.00   \n",
       "4         100.0              497.2        2.22       0.00      97.78   \n",
       "\n",
       "   Birthrate  Deathrate  Agriculture  Industry  Service  \n",
       "0      46.60      20.34        0.380     0.240    0.380  \n",
       "1      15.11       5.22        0.232     0.188    0.579  \n",
       "2      17.14       4.61        0.101     0.600    0.298  \n",
       "3      22.46       3.27        1.000     0.000    0.000  \n",
       "4       8.71       6.25        1.000     0.000    0.000  "
      ]
     },
     "execution_count": 4,
     "metadata": {},
     "output_type": "execute_result"
    }
   ],
   "source": [
    "df2.head()"
   ]
  },
  {
   "cell_type": "code",
   "execution_count": 5,
   "metadata": {},
   "outputs": [],
   "source": [
    "#df2.to_csv(\"countries_of_the_world_edit_2.csv\")"
   ]
  },
  {
   "cell_type": "markdown",
   "metadata": {},
   "source": [
    "### Preparing Life Expectancy Column\n"
   ]
  },
  {
   "cell_type": "code",
   "execution_count": 6,
   "metadata": {},
   "outputs": [],
   "source": [
    "df_life = pd.read_csv(\"./getdata/healthy_life_expectancy/Life Expectancy Data.csv\")"
   ]
  },
  {
   "cell_type": "code",
   "execution_count": 7,
   "metadata": {},
   "outputs": [
    {
     "data": {
      "text/html": [
       "<div>\n",
       "<style scoped>\n",
       "    .dataframe tbody tr th:only-of-type {\n",
       "        vertical-align: middle;\n",
       "    }\n",
       "\n",
       "    .dataframe tbody tr th {\n",
       "        vertical-align: top;\n",
       "    }\n",
       "\n",
       "    .dataframe thead th {\n",
       "        text-align: right;\n",
       "    }\n",
       "</style>\n",
       "<table border=\"1\" class=\"dataframe\">\n",
       "  <thead>\n",
       "    <tr style=\"text-align: right;\">\n",
       "      <th></th>\n",
       "      <th>Country</th>\n",
       "      <th>Year</th>\n",
       "      <th>Status</th>\n",
       "      <th>Life expectancy</th>\n",
       "      <th>Adult Mortality</th>\n",
       "      <th>infant deaths</th>\n",
       "      <th>Alcohol</th>\n",
       "      <th>percentage expenditure</th>\n",
       "      <th>Hepatitis B</th>\n",
       "      <th>Measles</th>\n",
       "      <th>...</th>\n",
       "      <th>Polio</th>\n",
       "      <th>Total expenditure</th>\n",
       "      <th>Diphtheria</th>\n",
       "      <th>HIV/AIDS</th>\n",
       "      <th>GDP</th>\n",
       "      <th>Population</th>\n",
       "      <th>thinness  1-19 years</th>\n",
       "      <th>thinness 5-9 years</th>\n",
       "      <th>Income composition of resources</th>\n",
       "      <th>Schooling</th>\n",
       "    </tr>\n",
       "  </thead>\n",
       "  <tbody>\n",
       "    <tr>\n",
       "      <th>0</th>\n",
       "      <td>Afghanistan</td>\n",
       "      <td>2015</td>\n",
       "      <td>Developing</td>\n",
       "      <td>65.0</td>\n",
       "      <td>263.0</td>\n",
       "      <td>62</td>\n",
       "      <td>0.01</td>\n",
       "      <td>71.279624</td>\n",
       "      <td>65.0</td>\n",
       "      <td>1154</td>\n",
       "      <td>...</td>\n",
       "      <td>6.0</td>\n",
       "      <td>8.16</td>\n",
       "      <td>65.0</td>\n",
       "      <td>0.1</td>\n",
       "      <td>584.259210</td>\n",
       "      <td>33736494.0</td>\n",
       "      <td>17.2</td>\n",
       "      <td>17.3</td>\n",
       "      <td>0.479</td>\n",
       "      <td>10.1</td>\n",
       "    </tr>\n",
       "    <tr>\n",
       "      <th>1</th>\n",
       "      <td>Afghanistan</td>\n",
       "      <td>2014</td>\n",
       "      <td>Developing</td>\n",
       "      <td>59.9</td>\n",
       "      <td>271.0</td>\n",
       "      <td>64</td>\n",
       "      <td>0.01</td>\n",
       "      <td>73.523582</td>\n",
       "      <td>62.0</td>\n",
       "      <td>492</td>\n",
       "      <td>...</td>\n",
       "      <td>58.0</td>\n",
       "      <td>8.18</td>\n",
       "      <td>62.0</td>\n",
       "      <td>0.1</td>\n",
       "      <td>612.696514</td>\n",
       "      <td>327582.0</td>\n",
       "      <td>17.5</td>\n",
       "      <td>17.5</td>\n",
       "      <td>0.476</td>\n",
       "      <td>10.0</td>\n",
       "    </tr>\n",
       "    <tr>\n",
       "      <th>2</th>\n",
       "      <td>Afghanistan</td>\n",
       "      <td>2013</td>\n",
       "      <td>Developing</td>\n",
       "      <td>59.9</td>\n",
       "      <td>268.0</td>\n",
       "      <td>66</td>\n",
       "      <td>0.01</td>\n",
       "      <td>73.219243</td>\n",
       "      <td>64.0</td>\n",
       "      <td>430</td>\n",
       "      <td>...</td>\n",
       "      <td>62.0</td>\n",
       "      <td>8.13</td>\n",
       "      <td>64.0</td>\n",
       "      <td>0.1</td>\n",
       "      <td>631.744976</td>\n",
       "      <td>31731688.0</td>\n",
       "      <td>17.7</td>\n",
       "      <td>17.7</td>\n",
       "      <td>0.470</td>\n",
       "      <td>9.9</td>\n",
       "    </tr>\n",
       "    <tr>\n",
       "      <th>3</th>\n",
       "      <td>Afghanistan</td>\n",
       "      <td>2012</td>\n",
       "      <td>Developing</td>\n",
       "      <td>59.5</td>\n",
       "      <td>272.0</td>\n",
       "      <td>69</td>\n",
       "      <td>0.01</td>\n",
       "      <td>78.184215</td>\n",
       "      <td>67.0</td>\n",
       "      <td>2787</td>\n",
       "      <td>...</td>\n",
       "      <td>67.0</td>\n",
       "      <td>8.52</td>\n",
       "      <td>67.0</td>\n",
       "      <td>0.1</td>\n",
       "      <td>669.959000</td>\n",
       "      <td>3696958.0</td>\n",
       "      <td>17.9</td>\n",
       "      <td>18.0</td>\n",
       "      <td>0.463</td>\n",
       "      <td>9.8</td>\n",
       "    </tr>\n",
       "    <tr>\n",
       "      <th>4</th>\n",
       "      <td>Afghanistan</td>\n",
       "      <td>2011</td>\n",
       "      <td>Developing</td>\n",
       "      <td>59.2</td>\n",
       "      <td>275.0</td>\n",
       "      <td>71</td>\n",
       "      <td>0.01</td>\n",
       "      <td>7.097109</td>\n",
       "      <td>68.0</td>\n",
       "      <td>3013</td>\n",
       "      <td>...</td>\n",
       "      <td>68.0</td>\n",
       "      <td>7.87</td>\n",
       "      <td>68.0</td>\n",
       "      <td>0.1</td>\n",
       "      <td>63.537231</td>\n",
       "      <td>2978599.0</td>\n",
       "      <td>18.2</td>\n",
       "      <td>18.2</td>\n",
       "      <td>0.454</td>\n",
       "      <td>9.5</td>\n",
       "    </tr>\n",
       "  </tbody>\n",
       "</table>\n",
       "<p>5 rows × 22 columns</p>\n",
       "</div>"
      ],
      "text/plain": [
       "       Country  Year      Status  Life expectancy   Adult Mortality  \\\n",
       "0  Afghanistan  2015  Developing              65.0            263.0   \n",
       "1  Afghanistan  2014  Developing              59.9            271.0   \n",
       "2  Afghanistan  2013  Developing              59.9            268.0   \n",
       "3  Afghanistan  2012  Developing              59.5            272.0   \n",
       "4  Afghanistan  2011  Developing              59.2            275.0   \n",
       "\n",
       "   infant deaths  Alcohol  percentage expenditure  Hepatitis B  Measles   ...  \\\n",
       "0             62     0.01               71.279624         65.0      1154  ...   \n",
       "1             64     0.01               73.523582         62.0       492  ...   \n",
       "2             66     0.01               73.219243         64.0       430  ...   \n",
       "3             69     0.01               78.184215         67.0      2787  ...   \n",
       "4             71     0.01                7.097109         68.0      3013  ...   \n",
       "\n",
       "   Polio  Total expenditure  Diphtheria    HIV/AIDS         GDP  Population  \\\n",
       "0    6.0               8.16         65.0        0.1  584.259210  33736494.0   \n",
       "1   58.0               8.18         62.0        0.1  612.696514    327582.0   \n",
       "2   62.0               8.13         64.0        0.1  631.744976  31731688.0   \n",
       "3   67.0               8.52         67.0        0.1  669.959000   3696958.0   \n",
       "4   68.0               7.87         68.0        0.1   63.537231   2978599.0   \n",
       "\n",
       "    thinness  1-19 years   thinness 5-9 years  \\\n",
       "0                   17.2                 17.3   \n",
       "1                   17.5                 17.5   \n",
       "2                   17.7                 17.7   \n",
       "3                   17.9                 18.0   \n",
       "4                   18.2                 18.2   \n",
       "\n",
       "   Income composition of resources  Schooling  \n",
       "0                            0.479       10.1  \n",
       "1                            0.476       10.0  \n",
       "2                            0.470        9.9  \n",
       "3                            0.463        9.8  \n",
       "4                            0.454        9.5  \n",
       "\n",
       "[5 rows x 22 columns]"
      ]
     },
     "execution_count": 7,
     "metadata": {},
     "output_type": "execute_result"
    }
   ],
   "source": [
    "df_life.head()"
   ]
  },
  {
   "cell_type": "code",
   "execution_count": 8,
   "metadata": {},
   "outputs": [
    {
     "data": {
      "text/plain": [
       "Index(['Country', 'Year', 'Status', 'Life expectancy', 'Adult Mortality',\n",
       "       'infant deaths', 'Alcohol', 'percentage expenditure', 'Hepatitis B',\n",
       "       'Measles', 'BMI', 'under-five deaths', 'Polio', 'Total expenditure',\n",
       "       'Diphtheria', 'HIV/AIDS', 'GDP', 'Population', 'thinness  1-19 years',\n",
       "       'thinness 5-9 years', 'Income composition of resources', 'Schooling'],\n",
       "      dtype='object')"
      ]
     },
     "execution_count": 8,
     "metadata": {},
     "output_type": "execute_result"
    }
   ],
   "source": [
    "df_life.columns = df_life.columns.str.strip()\n",
    "df_life.columns"
   ]
  },
  {
   "cell_type": "code",
   "execution_count": 9,
   "metadata": {},
   "outputs": [],
   "source": [
    "df_life2 = df_life[[\"Country\",\"Year\",\"Life expectancy\"]]"
   ]
  },
  {
   "cell_type": "code",
   "execution_count": 10,
   "metadata": {},
   "outputs": [],
   "source": [
    "df_life3 = df_life2.groupby(\"Country\").mean()"
   ]
  },
  {
   "cell_type": "code",
   "execution_count": 11,
   "metadata": {},
   "outputs": [],
   "source": [
    "df_life3 = df_life3.drop(\"Year\",axis = 1)"
   ]
  },
  {
   "cell_type": "code",
   "execution_count": 12,
   "metadata": {},
   "outputs": [],
   "source": [
    "#df_life3.to_csv(\"Life_expectancy_column.csv\")"
   ]
  },
  {
   "cell_type": "markdown",
   "metadata": {},
   "source": [
    "### Preparing Unemployment column"
   ]
  },
  {
   "cell_type": "code",
   "execution_count": 13,
   "metadata": {},
   "outputs": [],
   "source": [
    "df_employ = pd.read_csv(\"./getdata/Freedom/unemployment.csv\")\n",
    "df_employ.columns = df_employ.columns.str.strip()\n",
    "df_employ.columns = [\"Country\",\"unemployment_percentage\"]"
   ]
  },
  {
   "cell_type": "code",
   "execution_count": 14,
   "metadata": {},
   "outputs": [
    {
     "data": {
      "text/html": [
       "<div>\n",
       "<style scoped>\n",
       "    .dataframe tbody tr th:only-of-type {\n",
       "        vertical-align: middle;\n",
       "    }\n",
       "\n",
       "    .dataframe tbody tr th {\n",
       "        vertical-align: top;\n",
       "    }\n",
       "\n",
       "    .dataframe thead th {\n",
       "        text-align: right;\n",
       "    }\n",
       "</style>\n",
       "<table border=\"1\" class=\"dataframe\">\n",
       "  <thead>\n",
       "    <tr style=\"text-align: right;\">\n",
       "      <th></th>\n",
       "      <th>Country</th>\n",
       "      <th>unemployment_percentage</th>\n",
       "    </tr>\n",
       "  </thead>\n",
       "  <tbody>\n",
       "    <tr>\n",
       "      <th>0</th>\n",
       "      <td>Cocos (Keeling) Islands</td>\n",
       "      <td>0.1</td>\n",
       "    </tr>\n",
       "    <tr>\n",
       "      <th>1</th>\n",
       "      <td>Cambodia</td>\n",
       "      <td>0.3</td>\n",
       "    </tr>\n",
       "    <tr>\n",
       "      <th>2</th>\n",
       "      <td>Qatar</td>\n",
       "      <td>0.6</td>\n",
       "    </tr>\n",
       "    <tr>\n",
       "      <th>3</th>\n",
       "      <td>Thailand</td>\n",
       "      <td>0.7</td>\n",
       "    </tr>\n",
       "    <tr>\n",
       "      <th>4</th>\n",
       "      <td>Gibraltar</td>\n",
       "      <td>1.0</td>\n",
       "    </tr>\n",
       "    <tr>\n",
       "      <th>...</th>\n",
       "      <td>...</td>\n",
       "      <td>...</td>\n",
       "    </tr>\n",
       "    <tr>\n",
       "      <th>212</th>\n",
       "      <td>Senegal</td>\n",
       "      <td>48.0</td>\n",
       "    </tr>\n",
       "    <tr>\n",
       "      <th>213</th>\n",
       "      <td>Syria</td>\n",
       "      <td>50.0</td>\n",
       "    </tr>\n",
       "    <tr>\n",
       "      <th>214</th>\n",
       "      <td>Djibouti</td>\n",
       "      <td>60.0</td>\n",
       "    </tr>\n",
       "    <tr>\n",
       "      <th>215</th>\n",
       "      <td>Burkina Faso</td>\n",
       "      <td>77.0</td>\n",
       "    </tr>\n",
       "    <tr>\n",
       "      <th>216</th>\n",
       "      <td>Zimbabwe</td>\n",
       "      <td>95.0</td>\n",
       "    </tr>\n",
       "  </tbody>\n",
       "</table>\n",
       "<p>217 rows × 2 columns</p>\n",
       "</div>"
      ],
      "text/plain": [
       "                     Country  unemployment_percentage\n",
       "0    Cocos (Keeling) Islands                      0.1\n",
       "1                   Cambodia                      0.3\n",
       "2                      Qatar                      0.6\n",
       "3                   Thailand                      0.7\n",
       "4                  Gibraltar                      1.0\n",
       "..                       ...                      ...\n",
       "212                  Senegal                     48.0\n",
       "213                    Syria                     50.0\n",
       "214                 Djibouti                     60.0\n",
       "215             Burkina Faso                     77.0\n",
       "216                 Zimbabwe                     95.0\n",
       "\n",
       "[217 rows x 2 columns]"
      ]
     },
     "execution_count": 14,
     "metadata": {},
     "output_type": "execute_result"
    }
   ],
   "source": [
    "df_employ"
   ]
  },
  {
   "cell_type": "code",
   "execution_count": 15,
   "metadata": {},
   "outputs": [],
   "source": [
    "#df_employ.to_csv(\"Employment_column.csv\",index = False)"
   ]
  },
  {
   "cell_type": "markdown",
   "metadata": {},
   "source": [
    "### Preparing Corruption Perceptions Column"
   ]
  },
  {
   "cell_type": "code",
   "execution_count": 16,
   "metadata": {},
   "outputs": [],
   "source": [
    "df_cpi = pd.read_csv(\"./getdata/corruption/merged_cpi_data.csv\")"
   ]
  },
  {
   "cell_type": "code",
   "execution_count": 17,
   "metadata": {},
   "outputs": [
    {
     "data": {
      "text/html": [
       "<div>\n",
       "<style scoped>\n",
       "    .dataframe tbody tr th:only-of-type {\n",
       "        vertical-align: middle;\n",
       "    }\n",
       "\n",
       "    .dataframe tbody tr th {\n",
       "        vertical-align: top;\n",
       "    }\n",
       "\n",
       "    .dataframe thead th {\n",
       "        text-align: right;\n",
       "    }\n",
       "</style>\n",
       "<table border=\"1\" class=\"dataframe\">\n",
       "  <thead>\n",
       "    <tr style=\"text-align: right;\">\n",
       "      <th></th>\n",
       "      <th>Year</th>\n",
       "      <th>Country</th>\n",
       "      <th>CPI Score</th>\n",
       "      <th>Rank</th>\n",
       "      <th>Number of Sources</th>\n",
       "      <th>Minimum score</th>\n",
       "      <th>Maximum score</th>\n",
       "      <th>Standard Error</th>\n",
       "      <th>90% Confidence Interval (Higher bound)</th>\n",
       "      <th>90% Confidence Interval (Lower bound)</th>\n",
       "      <th>...</th>\n",
       "      <th>WJP</th>\n",
       "      <th>ISO3</th>\n",
       "      <th>Region</th>\n",
       "      <th>WB Code</th>\n",
       "      <th>OECD</th>\n",
       "      <th>G20</th>\n",
       "      <th>BRICS</th>\n",
       "      <th>EU</th>\n",
       "      <th>Arab states</th>\n",
       "      <th>IFS Code</th>\n",
       "    </tr>\n",
       "  </thead>\n",
       "  <tbody>\n",
       "    <tr>\n",
       "      <th>0</th>\n",
       "      <td>2010</td>\n",
       "      <td>Denmark</td>\n",
       "      <td>93.0</td>\n",
       "      <td>1</td>\n",
       "      <td>6</td>\n",
       "      <td>89.0</td>\n",
       "      <td>95.0</td>\n",
       "      <td>2.0</td>\n",
       "      <td>94.0</td>\n",
       "      <td>91.0</td>\n",
       "      <td>...</td>\n",
       "      <td>NaN</td>\n",
       "      <td>DNK</td>\n",
       "      <td>WE/EU</td>\n",
       "      <td>DNK</td>\n",
       "      <td>y</td>\n",
       "      <td>NaN</td>\n",
       "      <td>NaN</td>\n",
       "      <td>y</td>\n",
       "      <td>NaN</td>\n",
       "      <td>128.0</td>\n",
       "    </tr>\n",
       "    <tr>\n",
       "      <th>1</th>\n",
       "      <td>2010</td>\n",
       "      <td>New Zealand</td>\n",
       "      <td>93.0</td>\n",
       "      <td>1</td>\n",
       "      <td>6</td>\n",
       "      <td>89.0</td>\n",
       "      <td>95.0</td>\n",
       "      <td>2.0</td>\n",
       "      <td>95.0</td>\n",
       "      <td>92.0</td>\n",
       "      <td>...</td>\n",
       "      <td>NaN</td>\n",
       "      <td>NZL</td>\n",
       "      <td>AP</td>\n",
       "      <td>NZL</td>\n",
       "      <td>y</td>\n",
       "      <td>NaN</td>\n",
       "      <td>NaN</td>\n",
       "      <td>NaN</td>\n",
       "      <td>NaN</td>\n",
       "      <td>196.0</td>\n",
       "    </tr>\n",
       "    <tr>\n",
       "      <th>2</th>\n",
       "      <td>2010</td>\n",
       "      <td>Singapore</td>\n",
       "      <td>93.0</td>\n",
       "      <td>1</td>\n",
       "      <td>9</td>\n",
       "      <td>89.0</td>\n",
       "      <td>95.0</td>\n",
       "      <td>2.0</td>\n",
       "      <td>94.0</td>\n",
       "      <td>92.0</td>\n",
       "      <td>...</td>\n",
       "      <td>NaN</td>\n",
       "      <td>SGP</td>\n",
       "      <td>AP</td>\n",
       "      <td>SGP</td>\n",
       "      <td>NaN</td>\n",
       "      <td>NaN</td>\n",
       "      <td>NaN</td>\n",
       "      <td>NaN</td>\n",
       "      <td>NaN</td>\n",
       "      <td>576.0</td>\n",
       "    </tr>\n",
       "    <tr>\n",
       "      <th>3</th>\n",
       "      <td>2010</td>\n",
       "      <td>Finland</td>\n",
       "      <td>92.0</td>\n",
       "      <td>4</td>\n",
       "      <td>6</td>\n",
       "      <td>89.0</td>\n",
       "      <td>95.0</td>\n",
       "      <td>2.0</td>\n",
       "      <td>93.0</td>\n",
       "      <td>91.0</td>\n",
       "      <td>...</td>\n",
       "      <td>NaN</td>\n",
       "      <td>FIN</td>\n",
       "      <td>WE/EU</td>\n",
       "      <td>FIN</td>\n",
       "      <td>y</td>\n",
       "      <td>NaN</td>\n",
       "      <td>NaN</td>\n",
       "      <td>y</td>\n",
       "      <td>NaN</td>\n",
       "      <td>172.0</td>\n",
       "    </tr>\n",
       "    <tr>\n",
       "      <th>4</th>\n",
       "      <td>2010</td>\n",
       "      <td>Sweden</td>\n",
       "      <td>92.0</td>\n",
       "      <td>4</td>\n",
       "      <td>6</td>\n",
       "      <td>89.0</td>\n",
       "      <td>95.0</td>\n",
       "      <td>2.0</td>\n",
       "      <td>94.0</td>\n",
       "      <td>91.0</td>\n",
       "      <td>...</td>\n",
       "      <td>NaN</td>\n",
       "      <td>SWE</td>\n",
       "      <td>WE/EU</td>\n",
       "      <td>SWE</td>\n",
       "      <td>y</td>\n",
       "      <td>NaN</td>\n",
       "      <td>NaN</td>\n",
       "      <td>y</td>\n",
       "      <td>NaN</td>\n",
       "      <td>144.0</td>\n",
       "    </tr>\n",
       "  </tbody>\n",
       "</table>\n",
       "<p>5 rows × 34 columns</p>\n",
       "</div>"
      ],
      "text/plain": [
       "   Year      Country  CPI Score  Rank  Number of Sources  Minimum score  \\\n",
       "0  2010      Denmark       93.0     1                  6           89.0   \n",
       "1  2010  New Zealand       93.0     1                  6           89.0   \n",
       "2  2010    Singapore       93.0     1                  9           89.0   \n",
       "3  2010      Finland       92.0     4                  6           89.0   \n",
       "4  2010       Sweden       92.0     4                  6           89.0   \n",
       "\n",
       "   Maximum score  Standard Error  90% Confidence Interval (Higher bound)  \\\n",
       "0           95.0             2.0                                    94.0   \n",
       "1           95.0             2.0                                    95.0   \n",
       "2           95.0             2.0                                    94.0   \n",
       "3           95.0             2.0                                    93.0   \n",
       "4           95.0             2.0                                    94.0   \n",
       "\n",
       "   90% Confidence Interval (Lower bound)  ...  WJP  ISO3  Region  WB Code  \\\n",
       "0                                   91.0  ...  NaN   DNK   WE/EU      DNK   \n",
       "1                                   92.0  ...  NaN   NZL      AP      NZL   \n",
       "2                                   92.0  ...  NaN   SGP      AP      SGP   \n",
       "3                                   91.0  ...  NaN   FIN   WE/EU      FIN   \n",
       "4                                   91.0  ...  NaN   SWE   WE/EU      SWE   \n",
       "\n",
       "   OECD  G20  BRICS   EU  Arab states  IFS Code  \n",
       "0     y  NaN    NaN    y          NaN     128.0  \n",
       "1     y  NaN    NaN  NaN          NaN     196.0  \n",
       "2   NaN  NaN    NaN  NaN          NaN     576.0  \n",
       "3     y  NaN    NaN    y          NaN     172.0  \n",
       "4     y  NaN    NaN    y          NaN     144.0  \n",
       "\n",
       "[5 rows x 34 columns]"
      ]
     },
     "execution_count": 17,
     "metadata": {},
     "output_type": "execute_result"
    }
   ],
   "source": [
    "df_cpi.head()"
   ]
  },
  {
   "cell_type": "code",
   "execution_count": 18,
   "metadata": {},
   "outputs": [],
   "source": [
    "df_cpi2 = df_cpi[[\"Country\",\"CPI Score\"]]"
   ]
  },
  {
   "cell_type": "code",
   "execution_count": 19,
   "metadata": {},
   "outputs": [],
   "source": [
    "df_cpi3 = df_cpi2.groupby(\"Country\").mean()"
   ]
  },
  {
   "cell_type": "code",
   "execution_count": 20,
   "metadata": {},
   "outputs": [
    {
     "data": {
      "text/html": [
       "<div>\n",
       "<style scoped>\n",
       "    .dataframe tbody tr th:only-of-type {\n",
       "        vertical-align: middle;\n",
       "    }\n",
       "\n",
       "    .dataframe tbody tr th {\n",
       "        vertical-align: top;\n",
       "    }\n",
       "\n",
       "    .dataframe thead th {\n",
       "        text-align: right;\n",
       "    }\n",
       "</style>\n",
       "<table border=\"1\" class=\"dataframe\">\n",
       "  <thead>\n",
       "    <tr style=\"text-align: right;\">\n",
       "      <th></th>\n",
       "      <th>CPI Score</th>\n",
       "    </tr>\n",
       "    <tr>\n",
       "      <th>Country</th>\n",
       "      <th></th>\n",
       "    </tr>\n",
       "  </thead>\n",
       "  <tbody>\n",
       "    <tr>\n",
       "      <th>Afghanistan</th>\n",
       "      <td>13.017093</td>\n",
       "    </tr>\n",
       "    <tr>\n",
       "      <th>Albania</th>\n",
       "      <td>34.452946</td>\n",
       "    </tr>\n",
       "    <tr>\n",
       "      <th>Algeria</th>\n",
       "      <td>33.704377</td>\n",
       "    </tr>\n",
       "    <tr>\n",
       "      <th>Angola</th>\n",
       "      <td>20.005035</td>\n",
       "    </tr>\n",
       "    <tr>\n",
       "      <th>Argentina</th>\n",
       "      <td>35.396074</td>\n",
       "    </tr>\n",
       "    <tr>\n",
       "      <th>...</th>\n",
       "      <td>...</td>\n",
       "    </tr>\n",
       "    <tr>\n",
       "      <th>Venezuela</th>\n",
       "      <td>18.289497</td>\n",
       "    </tr>\n",
       "    <tr>\n",
       "      <th>Vietnam</th>\n",
       "      <td>31.764383</td>\n",
       "    </tr>\n",
       "    <tr>\n",
       "      <th>Yemen</th>\n",
       "      <td>17.980347</td>\n",
       "    </tr>\n",
       "    <tr>\n",
       "      <th>Zambia</th>\n",
       "      <td>35.695245</td>\n",
       "    </tr>\n",
       "    <tr>\n",
       "      <th>Zimbabwe</th>\n",
       "      <td>21.929767</td>\n",
       "    </tr>\n",
       "  </tbody>\n",
       "</table>\n",
       "<p>191 rows × 1 columns</p>\n",
       "</div>"
      ],
      "text/plain": [
       "             CPI Score\n",
       "Country               \n",
       "Afghanistan  13.017093\n",
       "Albania      34.452946\n",
       "Algeria      33.704377\n",
       "Angola       20.005035\n",
       "Argentina    35.396074\n",
       "...                ...\n",
       "Venezuela    18.289497\n",
       "Vietnam      31.764383\n",
       "Yemen        17.980347\n",
       "Zambia       35.695245\n",
       "Zimbabwe     21.929767\n",
       "\n",
       "[191 rows x 1 columns]"
      ]
     },
     "execution_count": 20,
     "metadata": {},
     "output_type": "execute_result"
    }
   ],
   "source": [
    "df_cpi3"
   ]
  },
  {
   "cell_type": "code",
   "execution_count": 21,
   "metadata": {},
   "outputs": [],
   "source": [
    "#df_cpi3.to_csv(\"cpi_column.csv\")"
   ]
  },
  {
   "cell_type": "markdown",
   "metadata": {},
   "source": [
    "## Merging all datasets into one"
   ]
  },
  {
   "cell_type": "markdown",
   "metadata": {},
   "source": [
    "### Obtaining data"
   ]
  },
  {
   "cell_type": "code",
   "execution_count": 25,
   "metadata": {},
   "outputs": [],
   "source": [
    "df_codw = pd.read_csv(\"countries_of_the_world_edit_2.csv\")\n",
    "df_cpi = pd.read_csv(\"cpi_column.csv\")\n",
    "df_unemp = pd.read_csv(\"Employment_column.csv\")\n",
    "df_life = pd.read_csv(\"Life_expectancy_column.csv\")\n",
    "df_whr = pd.read_csv(\"../first part/merged_all_5_years.csv\")\n",
    "\n",
    "\"\"\"\n",
    "codw -> Countries of the world\n",
    "cpi -> Corruption perceptions\n",
    "unemp -> Unemployement rates\n",
    "life -> Healthy life expectancy\n",
    "whr -> World Happiness Report\n",
    "\n",
    "\"\"\";"
   ]
  },
  {
   "cell_type": "code",
   "execution_count": 26,
   "metadata": {},
   "outputs": [],
   "source": [
    "df_codw = df_codw.drop(\"Unnamed: 0\",axis = 1)"
   ]
  },
  {
   "cell_type": "code",
   "execution_count": 27,
   "metadata": {},
   "outputs": [
    {
     "data": {
      "text/html": [
       "<div>\n",
       "<style scoped>\n",
       "    .dataframe tbody tr th:only-of-type {\n",
       "        vertical-align: middle;\n",
       "    }\n",
       "\n",
       "    .dataframe tbody tr th {\n",
       "        vertical-align: top;\n",
       "    }\n",
       "\n",
       "    .dataframe thead th {\n",
       "        text-align: right;\n",
       "    }\n",
       "</style>\n",
       "<table border=\"1\" class=\"dataframe\">\n",
       "  <thead>\n",
       "    <tr style=\"text-align: right;\">\n",
       "      <th></th>\n",
       "      <th>Country</th>\n",
       "      <th>Region</th>\n",
       "      <th>Population</th>\n",
       "      <th>Area (sq. mi.)</th>\n",
       "      <th>Pop. Density (per sq. mi.)</th>\n",
       "      <th>Coastline (coast/area ratio)</th>\n",
       "      <th>Net migration</th>\n",
       "      <th>Infant mortality (per 1000 births)</th>\n",
       "      <th>GDP ($ per capita)</th>\n",
       "      <th>Literacy (%)</th>\n",
       "      <th>Phones (per 1000)</th>\n",
       "      <th>Arable (%)</th>\n",
       "      <th>Crops (%)</th>\n",
       "      <th>Other (%)</th>\n",
       "      <th>Birthrate</th>\n",
       "      <th>Deathrate</th>\n",
       "      <th>Agriculture</th>\n",
       "      <th>Industry</th>\n",
       "      <th>Service</th>\n",
       "    </tr>\n",
       "  </thead>\n",
       "  <tbody>\n",
       "    <tr>\n",
       "      <th>0</th>\n",
       "      <td>Afghanistan</td>\n",
       "      <td>ASIA (EX. NEAR EAST)</td>\n",
       "      <td>31056997</td>\n",
       "      <td>647500</td>\n",
       "      <td>48.0</td>\n",
       "      <td>0.00</td>\n",
       "      <td>23.06</td>\n",
       "      <td>163.07</td>\n",
       "      <td>700.0</td>\n",
       "      <td>36.0</td>\n",
       "      <td>3.2</td>\n",
       "      <td>12.13</td>\n",
       "      <td>0.22</td>\n",
       "      <td>87.65</td>\n",
       "      <td>46.60</td>\n",
       "      <td>20.34</td>\n",
       "      <td>0.380</td>\n",
       "      <td>0.240</td>\n",
       "      <td>0.380</td>\n",
       "    </tr>\n",
       "    <tr>\n",
       "      <th>1</th>\n",
       "      <td>Albania</td>\n",
       "      <td>EASTERN EUROPE</td>\n",
       "      <td>3581655</td>\n",
       "      <td>28748</td>\n",
       "      <td>124.6</td>\n",
       "      <td>1.26</td>\n",
       "      <td>-4.93</td>\n",
       "      <td>21.52</td>\n",
       "      <td>4500.0</td>\n",
       "      <td>86.5</td>\n",
       "      <td>71.2</td>\n",
       "      <td>21.09</td>\n",
       "      <td>4.42</td>\n",
       "      <td>74.49</td>\n",
       "      <td>15.11</td>\n",
       "      <td>5.22</td>\n",
       "      <td>0.232</td>\n",
       "      <td>0.188</td>\n",
       "      <td>0.579</td>\n",
       "    </tr>\n",
       "    <tr>\n",
       "      <th>2</th>\n",
       "      <td>Algeria</td>\n",
       "      <td>NORTHERN AFRICA</td>\n",
       "      <td>32930091</td>\n",
       "      <td>2381740</td>\n",
       "      <td>13.8</td>\n",
       "      <td>0.04</td>\n",
       "      <td>-0.39</td>\n",
       "      <td>31.00</td>\n",
       "      <td>6000.0</td>\n",
       "      <td>70.0</td>\n",
       "      <td>78.1</td>\n",
       "      <td>3.22</td>\n",
       "      <td>0.25</td>\n",
       "      <td>96.53</td>\n",
       "      <td>17.14</td>\n",
       "      <td>4.61</td>\n",
       "      <td>0.101</td>\n",
       "      <td>0.600</td>\n",
       "      <td>0.298</td>\n",
       "    </tr>\n",
       "    <tr>\n",
       "      <th>3</th>\n",
       "      <td>American Samoa</td>\n",
       "      <td>OCEANIA</td>\n",
       "      <td>57794</td>\n",
       "      <td>199</td>\n",
       "      <td>290.4</td>\n",
       "      <td>58.29</td>\n",
       "      <td>-20.71</td>\n",
       "      <td>9.27</td>\n",
       "      <td>8000.0</td>\n",
       "      <td>97.0</td>\n",
       "      <td>259.5</td>\n",
       "      <td>10.00</td>\n",
       "      <td>15.00</td>\n",
       "      <td>75.00</td>\n",
       "      <td>22.46</td>\n",
       "      <td>3.27</td>\n",
       "      <td>1.000</td>\n",
       "      <td>0.000</td>\n",
       "      <td>0.000</td>\n",
       "    </tr>\n",
       "    <tr>\n",
       "      <th>4</th>\n",
       "      <td>Andorra</td>\n",
       "      <td>WESTERN EUROPE</td>\n",
       "      <td>71201</td>\n",
       "      <td>468</td>\n",
       "      <td>152.1</td>\n",
       "      <td>0.00</td>\n",
       "      <td>6.60</td>\n",
       "      <td>4.05</td>\n",
       "      <td>19000.0</td>\n",
       "      <td>100.0</td>\n",
       "      <td>497.2</td>\n",
       "      <td>2.22</td>\n",
       "      <td>0.00</td>\n",
       "      <td>97.78</td>\n",
       "      <td>8.71</td>\n",
       "      <td>6.25</td>\n",
       "      <td>1.000</td>\n",
       "      <td>0.000</td>\n",
       "      <td>0.000</td>\n",
       "    </tr>\n",
       "  </tbody>\n",
       "</table>\n",
       "</div>"
      ],
      "text/plain": [
       "          Country                               Region  Population  \\\n",
       "0     Afghanistan        ASIA (EX. NEAR EAST)             31056997   \n",
       "1         Albania  EASTERN EUROPE                          3581655   \n",
       "2         Algeria  NORTHERN AFRICA                        32930091   \n",
       "3  American Samoa  OCEANIA                                   57794   \n",
       "4         Andorra  WESTERN EUROPE                            71201   \n",
       "\n",
       "   Area (sq. mi.)  Pop. Density (per sq. mi.)  Coastline (coast/area ratio)  \\\n",
       "0          647500                        48.0                          0.00   \n",
       "1           28748                       124.6                          1.26   \n",
       "2         2381740                        13.8                          0.04   \n",
       "3             199                       290.4                         58.29   \n",
       "4             468                       152.1                          0.00   \n",
       "\n",
       "   Net migration  Infant mortality (per 1000 births)  GDP ($ per capita)  \\\n",
       "0          23.06                              163.07               700.0   \n",
       "1          -4.93                               21.52              4500.0   \n",
       "2          -0.39                               31.00              6000.0   \n",
       "3         -20.71                                9.27              8000.0   \n",
       "4           6.60                                4.05             19000.0   \n",
       "\n",
       "   Literacy (%)  Phones (per 1000)  Arable (%)  Crops (%)  Other (%)  \\\n",
       "0          36.0                3.2       12.13       0.22      87.65   \n",
       "1          86.5               71.2       21.09       4.42      74.49   \n",
       "2          70.0               78.1        3.22       0.25      96.53   \n",
       "3          97.0              259.5       10.00      15.00      75.00   \n",
       "4         100.0              497.2        2.22       0.00      97.78   \n",
       "\n",
       "   Birthrate  Deathrate  Agriculture  Industry  Service  \n",
       "0      46.60      20.34        0.380     0.240    0.380  \n",
       "1      15.11       5.22        0.232     0.188    0.579  \n",
       "2      17.14       4.61        0.101     0.600    0.298  \n",
       "3      22.46       3.27        1.000     0.000    0.000  \n",
       "4       8.71       6.25        1.000     0.000    0.000  "
      ]
     },
     "execution_count": 27,
     "metadata": {},
     "output_type": "execute_result"
    }
   ],
   "source": [
    "df_codw.head()"
   ]
  },
  {
   "cell_type": "code",
   "execution_count": 28,
   "metadata": {},
   "outputs": [],
   "source": [
    "df_codw = df_codw.drop(\"Region\",axis = 1)"
   ]
  },
  {
   "cell_type": "code",
   "execution_count": 29,
   "metadata": {},
   "outputs": [
    {
     "data": {
      "text/html": [
       "<div>\n",
       "<style scoped>\n",
       "    .dataframe tbody tr th:only-of-type {\n",
       "        vertical-align: middle;\n",
       "    }\n",
       "\n",
       "    .dataframe tbody tr th {\n",
       "        vertical-align: top;\n",
       "    }\n",
       "\n",
       "    .dataframe thead th {\n",
       "        text-align: right;\n",
       "    }\n",
       "</style>\n",
       "<table border=\"1\" class=\"dataframe\">\n",
       "  <thead>\n",
       "    <tr style=\"text-align: right;\">\n",
       "      <th></th>\n",
       "      <th>Country</th>\n",
       "      <th>Population</th>\n",
       "      <th>Area (sq. mi.)</th>\n",
       "      <th>Pop. Density (per sq. mi.)</th>\n",
       "      <th>Coastline (coast/area ratio)</th>\n",
       "      <th>Net migration</th>\n",
       "      <th>Infant mortality (per 1000 births)</th>\n",
       "      <th>GDP ($ per capita)</th>\n",
       "      <th>Literacy (%)</th>\n",
       "      <th>Phones (per 1000)</th>\n",
       "      <th>Arable (%)</th>\n",
       "      <th>Crops (%)</th>\n",
       "      <th>Other (%)</th>\n",
       "      <th>Birthrate</th>\n",
       "      <th>Deathrate</th>\n",
       "      <th>Agriculture</th>\n",
       "      <th>Industry</th>\n",
       "      <th>Service</th>\n",
       "    </tr>\n",
       "  </thead>\n",
       "  <tbody>\n",
       "    <tr>\n",
       "      <th>0</th>\n",
       "      <td>Afghanistan</td>\n",
       "      <td>31056997</td>\n",
       "      <td>647500</td>\n",
       "      <td>48.0</td>\n",
       "      <td>0.00</td>\n",
       "      <td>23.06</td>\n",
       "      <td>163.070000</td>\n",
       "      <td>700.0</td>\n",
       "      <td>36.0</td>\n",
       "      <td>3.2</td>\n",
       "      <td>12.13</td>\n",
       "      <td>0.22</td>\n",
       "      <td>87.65</td>\n",
       "      <td>46.60</td>\n",
       "      <td>20.34</td>\n",
       "      <td>0.380</td>\n",
       "      <td>0.240</td>\n",
       "      <td>0.380</td>\n",
       "    </tr>\n",
       "    <tr>\n",
       "      <th>1</th>\n",
       "      <td>Albania</td>\n",
       "      <td>3581655</td>\n",
       "      <td>28748</td>\n",
       "      <td>124.6</td>\n",
       "      <td>1.26</td>\n",
       "      <td>-4.93</td>\n",
       "      <td>21.520000</td>\n",
       "      <td>4500.0</td>\n",
       "      <td>86.5</td>\n",
       "      <td>71.2</td>\n",
       "      <td>21.09</td>\n",
       "      <td>4.42</td>\n",
       "      <td>74.49</td>\n",
       "      <td>15.11</td>\n",
       "      <td>5.22</td>\n",
       "      <td>0.232</td>\n",
       "      <td>0.188</td>\n",
       "      <td>0.579</td>\n",
       "    </tr>\n",
       "    <tr>\n",
       "      <th>2</th>\n",
       "      <td>Algeria</td>\n",
       "      <td>32930091</td>\n",
       "      <td>2381740</td>\n",
       "      <td>13.8</td>\n",
       "      <td>0.04</td>\n",
       "      <td>-0.39</td>\n",
       "      <td>31.000000</td>\n",
       "      <td>6000.0</td>\n",
       "      <td>70.0</td>\n",
       "      <td>78.1</td>\n",
       "      <td>3.22</td>\n",
       "      <td>0.25</td>\n",
       "      <td>96.53</td>\n",
       "      <td>17.14</td>\n",
       "      <td>4.61</td>\n",
       "      <td>0.101</td>\n",
       "      <td>0.600</td>\n",
       "      <td>0.298</td>\n",
       "    </tr>\n",
       "    <tr>\n",
       "      <th>3</th>\n",
       "      <td>American Samoa</td>\n",
       "      <td>57794</td>\n",
       "      <td>199</td>\n",
       "      <td>290.4</td>\n",
       "      <td>58.29</td>\n",
       "      <td>-20.71</td>\n",
       "      <td>9.270000</td>\n",
       "      <td>8000.0</td>\n",
       "      <td>97.0</td>\n",
       "      <td>259.5</td>\n",
       "      <td>10.00</td>\n",
       "      <td>15.00</td>\n",
       "      <td>75.00</td>\n",
       "      <td>22.46</td>\n",
       "      <td>3.27</td>\n",
       "      <td>1.000</td>\n",
       "      <td>0.000</td>\n",
       "      <td>0.000</td>\n",
       "    </tr>\n",
       "    <tr>\n",
       "      <th>4</th>\n",
       "      <td>Andorra</td>\n",
       "      <td>71201</td>\n",
       "      <td>468</td>\n",
       "      <td>152.1</td>\n",
       "      <td>0.00</td>\n",
       "      <td>6.60</td>\n",
       "      <td>4.050000</td>\n",
       "      <td>19000.0</td>\n",
       "      <td>100.0</td>\n",
       "      <td>497.2</td>\n",
       "      <td>2.22</td>\n",
       "      <td>0.00</td>\n",
       "      <td>97.78</td>\n",
       "      <td>8.71</td>\n",
       "      <td>6.25</td>\n",
       "      <td>1.000</td>\n",
       "      <td>0.000</td>\n",
       "      <td>0.000</td>\n",
       "    </tr>\n",
       "    <tr>\n",
       "      <th>...</th>\n",
       "      <td>...</td>\n",
       "      <td>...</td>\n",
       "      <td>...</td>\n",
       "      <td>...</td>\n",
       "      <td>...</td>\n",
       "      <td>...</td>\n",
       "      <td>...</td>\n",
       "      <td>...</td>\n",
       "      <td>...</td>\n",
       "      <td>...</td>\n",
       "      <td>...</td>\n",
       "      <td>...</td>\n",
       "      <td>...</td>\n",
       "      <td>...</td>\n",
       "      <td>...</td>\n",
       "      <td>...</td>\n",
       "      <td>...</td>\n",
       "      <td>...</td>\n",
       "    </tr>\n",
       "    <tr>\n",
       "      <th>222</th>\n",
       "      <td>West Bank</td>\n",
       "      <td>2460492</td>\n",
       "      <td>5860</td>\n",
       "      <td>419.9</td>\n",
       "      <td>0.00</td>\n",
       "      <td>2.98</td>\n",
       "      <td>19.620000</td>\n",
       "      <td>800.0</td>\n",
       "      <td>0.0</td>\n",
       "      <td>145.2</td>\n",
       "      <td>16.90</td>\n",
       "      <td>18.97</td>\n",
       "      <td>64.13</td>\n",
       "      <td>31.67</td>\n",
       "      <td>3.92</td>\n",
       "      <td>0.090</td>\n",
       "      <td>0.280</td>\n",
       "      <td>0.630</td>\n",
       "    </tr>\n",
       "    <tr>\n",
       "      <th>223</th>\n",
       "      <td>Western Sahara</td>\n",
       "      <td>273008</td>\n",
       "      <td>266000</td>\n",
       "      <td>1.0</td>\n",
       "      <td>0.42</td>\n",
       "      <td>0.00</td>\n",
       "      <td>35.506964</td>\n",
       "      <td>0.0</td>\n",
       "      <td>0.0</td>\n",
       "      <td>0.0</td>\n",
       "      <td>0.02</td>\n",
       "      <td>0.00</td>\n",
       "      <td>99.98</td>\n",
       "      <td>0.00</td>\n",
       "      <td>0.00</td>\n",
       "      <td>1.000</td>\n",
       "      <td>0.000</td>\n",
       "      <td>0.400</td>\n",
       "    </tr>\n",
       "    <tr>\n",
       "      <th>224</th>\n",
       "      <td>Yemen</td>\n",
       "      <td>21456188</td>\n",
       "      <td>527970</td>\n",
       "      <td>40.6</td>\n",
       "      <td>0.36</td>\n",
       "      <td>0.00</td>\n",
       "      <td>61.500000</td>\n",
       "      <td>800.0</td>\n",
       "      <td>50.2</td>\n",
       "      <td>37.2</td>\n",
       "      <td>2.78</td>\n",
       "      <td>0.24</td>\n",
       "      <td>96.98</td>\n",
       "      <td>42.89</td>\n",
       "      <td>8.30</td>\n",
       "      <td>0.135</td>\n",
       "      <td>0.472</td>\n",
       "      <td>0.393</td>\n",
       "    </tr>\n",
       "    <tr>\n",
       "      <th>225</th>\n",
       "      <td>Zambia</td>\n",
       "      <td>11502010</td>\n",
       "      <td>752614</td>\n",
       "      <td>15.3</td>\n",
       "      <td>0.00</td>\n",
       "      <td>0.00</td>\n",
       "      <td>88.290000</td>\n",
       "      <td>800.0</td>\n",
       "      <td>80.6</td>\n",
       "      <td>8.2</td>\n",
       "      <td>7.08</td>\n",
       "      <td>0.03</td>\n",
       "      <td>92.90</td>\n",
       "      <td>41.00</td>\n",
       "      <td>19.93</td>\n",
       "      <td>0.220</td>\n",
       "      <td>0.290</td>\n",
       "      <td>0.489</td>\n",
       "    </tr>\n",
       "    <tr>\n",
       "      <th>226</th>\n",
       "      <td>Zimbabwe</td>\n",
       "      <td>12236805</td>\n",
       "      <td>390580</td>\n",
       "      <td>31.3</td>\n",
       "      <td>0.00</td>\n",
       "      <td>0.00</td>\n",
       "      <td>67.690000</td>\n",
       "      <td>1900.0</td>\n",
       "      <td>90.7</td>\n",
       "      <td>26.8</td>\n",
       "      <td>8.32</td>\n",
       "      <td>0.34</td>\n",
       "      <td>91.34</td>\n",
       "      <td>28.01</td>\n",
       "      <td>21.84</td>\n",
       "      <td>0.179</td>\n",
       "      <td>0.243</td>\n",
       "      <td>0.579</td>\n",
       "    </tr>\n",
       "  </tbody>\n",
       "</table>\n",
       "<p>227 rows × 18 columns</p>\n",
       "</div>"
      ],
      "text/plain": [
       "            Country  Population  Area (sq. mi.)  Pop. Density (per sq. mi.)  \\\n",
       "0       Afghanistan    31056997          647500                        48.0   \n",
       "1           Albania     3581655           28748                       124.6   \n",
       "2           Algeria    32930091         2381740                        13.8   \n",
       "3    American Samoa       57794             199                       290.4   \n",
       "4           Andorra       71201             468                       152.1   \n",
       "..              ...         ...             ...                         ...   \n",
       "222       West Bank     2460492            5860                       419.9   \n",
       "223  Western Sahara      273008          266000                         1.0   \n",
       "224           Yemen    21456188          527970                        40.6   \n",
       "225          Zambia    11502010          752614                        15.3   \n",
       "226        Zimbabwe    12236805          390580                        31.3   \n",
       "\n",
       "     Coastline (coast/area ratio)  Net migration  \\\n",
       "0                            0.00          23.06   \n",
       "1                            1.26          -4.93   \n",
       "2                            0.04          -0.39   \n",
       "3                           58.29         -20.71   \n",
       "4                            0.00           6.60   \n",
       "..                            ...            ...   \n",
       "222                          0.00           2.98   \n",
       "223                          0.42           0.00   \n",
       "224                          0.36           0.00   \n",
       "225                          0.00           0.00   \n",
       "226                          0.00           0.00   \n",
       "\n",
       "     Infant mortality (per 1000 births)  GDP ($ per capita)  Literacy (%)  \\\n",
       "0                            163.070000               700.0          36.0   \n",
       "1                             21.520000              4500.0          86.5   \n",
       "2                             31.000000              6000.0          70.0   \n",
       "3                              9.270000              8000.0          97.0   \n",
       "4                              4.050000             19000.0         100.0   \n",
       "..                                  ...                 ...           ...   \n",
       "222                           19.620000               800.0           0.0   \n",
       "223                           35.506964                 0.0           0.0   \n",
       "224                           61.500000               800.0          50.2   \n",
       "225                           88.290000               800.0          80.6   \n",
       "226                           67.690000              1900.0          90.7   \n",
       "\n",
       "     Phones (per 1000)  Arable (%)  Crops (%)  Other (%)  Birthrate  \\\n",
       "0                  3.2       12.13       0.22      87.65      46.60   \n",
       "1                 71.2       21.09       4.42      74.49      15.11   \n",
       "2                 78.1        3.22       0.25      96.53      17.14   \n",
       "3                259.5       10.00      15.00      75.00      22.46   \n",
       "4                497.2        2.22       0.00      97.78       8.71   \n",
       "..                 ...         ...        ...        ...        ...   \n",
       "222              145.2       16.90      18.97      64.13      31.67   \n",
       "223                0.0        0.02       0.00      99.98       0.00   \n",
       "224               37.2        2.78       0.24      96.98      42.89   \n",
       "225                8.2        7.08       0.03      92.90      41.00   \n",
       "226               26.8        8.32       0.34      91.34      28.01   \n",
       "\n",
       "     Deathrate  Agriculture  Industry  Service  \n",
       "0        20.34        0.380     0.240    0.380  \n",
       "1         5.22        0.232     0.188    0.579  \n",
       "2         4.61        0.101     0.600    0.298  \n",
       "3         3.27        1.000     0.000    0.000  \n",
       "4         6.25        1.000     0.000    0.000  \n",
       "..         ...          ...       ...      ...  \n",
       "222       3.92        0.090     0.280    0.630  \n",
       "223       0.00        1.000     0.000    0.400  \n",
       "224       8.30        0.135     0.472    0.393  \n",
       "225      19.93        0.220     0.290    0.489  \n",
       "226      21.84        0.179     0.243    0.579  \n",
       "\n",
       "[227 rows x 18 columns]"
      ]
     },
     "execution_count": 29,
     "metadata": {},
     "output_type": "execute_result"
    }
   ],
   "source": [
    "df_codw"
   ]
  },
  {
   "cell_type": "markdown",
   "metadata": {},
   "source": [
    "### Merging"
   ]
  },
  {
   "cell_type": "code",
   "execution_count": 30,
   "metadata": {},
   "outputs": [],
   "source": [
    "merged1 = pd.merge(df_codw,df_life,on = \"Country\",how = \"inner\")\n",
    "merged2 = pd.merge(merged1,df_cpi,on = \"Country\",how = \"inner\")\n",
    "merged3 = pd.merge(merged2,df_unemp,on = \"Country\",how = \"inner\")\n",
    "merged4 = pd.merge(merged3,df_whr,on = \"Country\",how = \"inner\")"
   ]
  },
  {
   "cell_type": "code",
   "execution_count": 31,
   "metadata": {},
   "outputs": [],
   "source": [
    "merged4 = merged4.sort_values(by = \"Happiness Score\",ascending = False,ignore_index = True)"
   ]
  },
  {
   "cell_type": "code",
   "execution_count": 32,
   "metadata": {},
   "outputs": [
    {
     "data": {
      "text/html": [
       "<div>\n",
       "<style scoped>\n",
       "    .dataframe tbody tr th:only-of-type {\n",
       "        vertical-align: middle;\n",
       "    }\n",
       "\n",
       "    .dataframe tbody tr th {\n",
       "        vertical-align: top;\n",
       "    }\n",
       "\n",
       "    .dataframe thead th {\n",
       "        text-align: right;\n",
       "    }\n",
       "</style>\n",
       "<table border=\"1\" class=\"dataframe\">\n",
       "  <thead>\n",
       "    <tr style=\"text-align: right;\">\n",
       "      <th></th>\n",
       "      <th>Country</th>\n",
       "      <th>Population</th>\n",
       "      <th>Area (sq. mi.)</th>\n",
       "      <th>Pop. Density (per sq. mi.)</th>\n",
       "      <th>Coastline (coast/area ratio)</th>\n",
       "      <th>Net migration</th>\n",
       "      <th>Infant mortality (per 1000 births)</th>\n",
       "      <th>GDP ($ per capita)</th>\n",
       "      <th>Literacy (%)</th>\n",
       "      <th>Phones (per 1000)</th>\n",
       "      <th>...</th>\n",
       "      <th>Unnamed: 0</th>\n",
       "      <th>Region</th>\n",
       "      <th>Happiness Rank</th>\n",
       "      <th>Happiness Score</th>\n",
       "      <th>GDP per capita</th>\n",
       "      <th>Social support</th>\n",
       "      <th>Healthy life expectancy</th>\n",
       "      <th>Freedom to make life choices</th>\n",
       "      <th>Generosity</th>\n",
       "      <th>Perceptions of corruption</th>\n",
       "    </tr>\n",
       "  </thead>\n",
       "  <tbody>\n",
       "    <tr>\n",
       "      <th>0</th>\n",
       "      <td>Denmark</td>\n",
       "      <td>5450661</td>\n",
       "      <td>43094</td>\n",
       "      <td>126.5</td>\n",
       "      <td>16.97</td>\n",
       "      <td>2.48</td>\n",
       "      <td>4.56</td>\n",
       "      <td>31100.0</td>\n",
       "      <td>100.0</td>\n",
       "      <td>614.6</td>\n",
       "      <td>...</td>\n",
       "      <td>0</td>\n",
       "      <td>Europe</td>\n",
       "      <td>1</td>\n",
       "      <td>7.54600</td>\n",
       "      <td>1.396729</td>\n",
       "      <td>1.447688</td>\n",
       "      <td>0.865249</td>\n",
       "      <td>0.625959</td>\n",
       "      <td>0.363876</td>\n",
       "      <td>0.384374</td>\n",
       "    </tr>\n",
       "    <tr>\n",
       "      <th>1</th>\n",
       "      <td>Norway</td>\n",
       "      <td>4610820</td>\n",
       "      <td>323802</td>\n",
       "      <td>14.2</td>\n",
       "      <td>7.77</td>\n",
       "      <td>1.74</td>\n",
       "      <td>3.70</td>\n",
       "      <td>37800.0</td>\n",
       "      <td>100.0</td>\n",
       "      <td>461.7</td>\n",
       "      <td>...</td>\n",
       "      <td>1</td>\n",
       "      <td>Europe</td>\n",
       "      <td>2</td>\n",
       "      <td>7.54100</td>\n",
       "      <td>1.519381</td>\n",
       "      <td>1.431075</td>\n",
       "      <td>0.873333</td>\n",
       "      <td>0.638049</td>\n",
       "      <td>0.328360</td>\n",
       "      <td>0.344581</td>\n",
       "    </tr>\n",
       "    <tr>\n",
       "      <th>2</th>\n",
       "      <td>Finland</td>\n",
       "      <td>5231372</td>\n",
       "      <td>338145</td>\n",
       "      <td>15.5</td>\n",
       "      <td>0.37</td>\n",
       "      <td>0.95</td>\n",
       "      <td>3.57</td>\n",
       "      <td>27400.0</td>\n",
       "      <td>100.0</td>\n",
       "      <td>405.3</td>\n",
       "      <td>...</td>\n",
       "      <td>2</td>\n",
       "      <td>Europe</td>\n",
       "      <td>3</td>\n",
       "      <td>7.53780</td>\n",
       "      <td>1.356960</td>\n",
       "      <td>1.434429</td>\n",
       "      <td>0.873836</td>\n",
       "      <td>0.621536</td>\n",
       "      <td>0.284849</td>\n",
       "      <td>0.331408</td>\n",
       "    </tr>\n",
       "    <tr>\n",
       "      <th>3</th>\n",
       "      <td>Switzerland</td>\n",
       "      <td>7523934</td>\n",
       "      <td>41290</td>\n",
       "      <td>182.2</td>\n",
       "      <td>0.00</td>\n",
       "      <td>4.05</td>\n",
       "      <td>4.39</td>\n",
       "      <td>32700.0</td>\n",
       "      <td>99.0</td>\n",
       "      <td>680.9</td>\n",
       "      <td>...</td>\n",
       "      <td>3</td>\n",
       "      <td>Europe</td>\n",
       "      <td>4</td>\n",
       "      <td>7.51140</td>\n",
       "      <td>1.472164</td>\n",
       "      <td>1.417332</td>\n",
       "      <td>0.928318</td>\n",
       "      <td>0.620642</td>\n",
       "      <td>0.328272</td>\n",
       "      <td>0.328923</td>\n",
       "    </tr>\n",
       "    <tr>\n",
       "      <th>4</th>\n",
       "      <td>Iceland</td>\n",
       "      <td>299388</td>\n",
       "      <td>103000</td>\n",
       "      <td>2.9</td>\n",
       "      <td>4.83</td>\n",
       "      <td>2.38</td>\n",
       "      <td>3.31</td>\n",
       "      <td>30900.0</td>\n",
       "      <td>99.9</td>\n",
       "      <td>647.7</td>\n",
       "      <td>...</td>\n",
       "      <td>4</td>\n",
       "      <td>Europe</td>\n",
       "      <td>5</td>\n",
       "      <td>7.51100</td>\n",
       "      <td>1.386523</td>\n",
       "      <td>1.492813</td>\n",
       "      <td>0.917744</td>\n",
       "      <td>0.618035</td>\n",
       "      <td>0.294748</td>\n",
       "      <td>0.264521</td>\n",
       "    </tr>\n",
       "    <tr>\n",
       "      <th>...</th>\n",
       "      <td>...</td>\n",
       "      <td>...</td>\n",
       "      <td>...</td>\n",
       "      <td>...</td>\n",
       "      <td>...</td>\n",
       "      <td>...</td>\n",
       "      <td>...</td>\n",
       "      <td>...</td>\n",
       "      <td>...</td>\n",
       "      <td>...</td>\n",
       "      <td>...</td>\n",
       "      <td>...</td>\n",
       "      <td>...</td>\n",
       "      <td>...</td>\n",
       "      <td>...</td>\n",
       "      <td>...</td>\n",
       "      <td>...</td>\n",
       "      <td>...</td>\n",
       "      <td>...</td>\n",
       "      <td>...</td>\n",
       "      <td>...</td>\n",
       "    </tr>\n",
       "    <tr>\n",
       "      <th>137</th>\n",
       "      <td>Yemen</td>\n",
       "      <td>21456188</td>\n",
       "      <td>527970</td>\n",
       "      <td>40.6</td>\n",
       "      <td>0.36</td>\n",
       "      <td>0.00</td>\n",
       "      <td>61.50</td>\n",
       "      <td>800.0</td>\n",
       "      <td>50.2</td>\n",
       "      <td>37.2</td>\n",
       "      <td>...</td>\n",
       "      <td>150</td>\n",
       "      <td>Africa</td>\n",
       "      <td>151</td>\n",
       "      <td>3.62580</td>\n",
       "      <td>0.489313</td>\n",
       "      <td>0.865448</td>\n",
       "      <td>0.365440</td>\n",
       "      <td>0.244175</td>\n",
       "      <td>0.086517</td>\n",
       "      <td>0.077457</td>\n",
       "    </tr>\n",
       "    <tr>\n",
       "      <th>138</th>\n",
       "      <td>Afghanistan</td>\n",
       "      <td>31056997</td>\n",
       "      <td>647500</td>\n",
       "      <td>48.0</td>\n",
       "      <td>0.00</td>\n",
       "      <td>23.06</td>\n",
       "      <td>163.07</td>\n",
       "      <td>700.0</td>\n",
       "      <td>36.0</td>\n",
       "      <td>3.2</td>\n",
       "      <td>...</td>\n",
       "      <td>151</td>\n",
       "      <td>Asia</td>\n",
       "      <td>152</td>\n",
       "      <td>3.51280</td>\n",
       "      <td>0.357113</td>\n",
       "      <td>0.409753</td>\n",
       "      <td>0.254707</td>\n",
       "      <td>0.117924</td>\n",
       "      <td>0.165836</td>\n",
       "      <td>0.159988</td>\n",
       "    </tr>\n",
       "    <tr>\n",
       "      <th>139</th>\n",
       "      <td>Tanzania</td>\n",
       "      <td>37445392</td>\n",
       "      <td>945087</td>\n",
       "      <td>39.6</td>\n",
       "      <td>0.15</td>\n",
       "      <td>-2.06</td>\n",
       "      <td>98.54</td>\n",
       "      <td>600.0</td>\n",
       "      <td>78.2</td>\n",
       "      <td>4.0</td>\n",
       "      <td>...</td>\n",
       "      <td>152</td>\n",
       "      <td>Africa</td>\n",
       "      <td>153</td>\n",
       "      <td>3.46600</td>\n",
       "      <td>0.439777</td>\n",
       "      <td>0.939380</td>\n",
       "      <td>0.396732</td>\n",
       "      <td>0.386880</td>\n",
       "      <td>0.201743</td>\n",
       "      <td>0.193705</td>\n",
       "    </tr>\n",
       "    <tr>\n",
       "      <th>140</th>\n",
       "      <td>Rwanda</td>\n",
       "      <td>8648248</td>\n",
       "      <td>26338</td>\n",
       "      <td>328.4</td>\n",
       "      <td>0.00</td>\n",
       "      <td>0.00</td>\n",
       "      <td>91.23</td>\n",
       "      <td>1300.0</td>\n",
       "      <td>70.4</td>\n",
       "      <td>2.7</td>\n",
       "      <td>...</td>\n",
       "      <td>153</td>\n",
       "      <td>Africa</td>\n",
       "      <td>154</td>\n",
       "      <td>3.43860</td>\n",
       "      <td>0.322057</td>\n",
       "      <td>0.788453</td>\n",
       "      <td>0.417543</td>\n",
       "      <td>0.581611</td>\n",
       "      <td>0.345375</td>\n",
       "      <td>0.354404</td>\n",
       "    </tr>\n",
       "    <tr>\n",
       "      <th>141</th>\n",
       "      <td>Central African Republic</td>\n",
       "      <td>4303356</td>\n",
       "      <td>622984</td>\n",
       "      <td>6.9</td>\n",
       "      <td>0.00</td>\n",
       "      <td>0.00</td>\n",
       "      <td>91.00</td>\n",
       "      <td>1100.0</td>\n",
       "      <td>51.0</td>\n",
       "      <td>2.3</td>\n",
       "      <td>...</td>\n",
       "      <td>154</td>\n",
       "      <td>Africa</td>\n",
       "      <td>155</td>\n",
       "      <td>3.13425</td>\n",
       "      <td>0.032125</td>\n",
       "      <td>0.000000</td>\n",
       "      <td>0.050191</td>\n",
       "      <td>0.322408</td>\n",
       "      <td>0.204192</td>\n",
       "      <td>0.091979</td>\n",
       "    </tr>\n",
       "  </tbody>\n",
       "</table>\n",
       "<p>142 rows × 31 columns</p>\n",
       "</div>"
      ],
      "text/plain": [
       "                      Country  Population  Area (sq. mi.)  \\\n",
       "0                     Denmark     5450661           43094   \n",
       "1                      Norway     4610820          323802   \n",
       "2                     Finland     5231372          338145   \n",
       "3                 Switzerland     7523934           41290   \n",
       "4                     Iceland      299388          103000   \n",
       "..                        ...         ...             ...   \n",
       "137                     Yemen    21456188          527970   \n",
       "138               Afghanistan    31056997          647500   \n",
       "139                  Tanzania    37445392          945087   \n",
       "140                    Rwanda     8648248           26338   \n",
       "141  Central African Republic     4303356          622984   \n",
       "\n",
       "     Pop. Density (per sq. mi.)  Coastline (coast/area ratio)  Net migration  \\\n",
       "0                         126.5                         16.97           2.48   \n",
       "1                          14.2                          7.77           1.74   \n",
       "2                          15.5                          0.37           0.95   \n",
       "3                         182.2                          0.00           4.05   \n",
       "4                           2.9                          4.83           2.38   \n",
       "..                          ...                           ...            ...   \n",
       "137                        40.6                          0.36           0.00   \n",
       "138                        48.0                          0.00          23.06   \n",
       "139                        39.6                          0.15          -2.06   \n",
       "140                       328.4                          0.00           0.00   \n",
       "141                         6.9                          0.00           0.00   \n",
       "\n",
       "     Infant mortality (per 1000 births)  GDP ($ per capita)  Literacy (%)  \\\n",
       "0                                  4.56             31100.0         100.0   \n",
       "1                                  3.70             37800.0         100.0   \n",
       "2                                  3.57             27400.0         100.0   \n",
       "3                                  4.39             32700.0          99.0   \n",
       "4                                  3.31             30900.0          99.9   \n",
       "..                                  ...                 ...           ...   \n",
       "137                               61.50               800.0          50.2   \n",
       "138                              163.07               700.0          36.0   \n",
       "139                               98.54               600.0          78.2   \n",
       "140                               91.23              1300.0          70.4   \n",
       "141                               91.00              1100.0          51.0   \n",
       "\n",
       "     Phones (per 1000)  ...  Unnamed: 0  Region  Happiness Rank  \\\n",
       "0                614.6  ...           0  Europe               1   \n",
       "1                461.7  ...           1  Europe               2   \n",
       "2                405.3  ...           2  Europe               3   \n",
       "3                680.9  ...           3  Europe               4   \n",
       "4                647.7  ...           4  Europe               5   \n",
       "..                 ...  ...         ...     ...             ...   \n",
       "137               37.2  ...         150  Africa             151   \n",
       "138                3.2  ...         151    Asia             152   \n",
       "139                4.0  ...         152  Africa             153   \n",
       "140                2.7  ...         153  Africa             154   \n",
       "141                2.3  ...         154  Africa             155   \n",
       "\n",
       "     Happiness Score  GDP per capita  Social support  Healthy life expectancy  \\\n",
       "0            7.54600        1.396729        1.447688                 0.865249   \n",
       "1            7.54100        1.519381        1.431075                 0.873333   \n",
       "2            7.53780        1.356960        1.434429                 0.873836   \n",
       "3            7.51140        1.472164        1.417332                 0.928318   \n",
       "4            7.51100        1.386523        1.492813                 0.917744   \n",
       "..               ...             ...             ...                      ...   \n",
       "137          3.62580        0.489313        0.865448                 0.365440   \n",
       "138          3.51280        0.357113        0.409753                 0.254707   \n",
       "139          3.46600        0.439777        0.939380                 0.396732   \n",
       "140          3.43860        0.322057        0.788453                 0.417543   \n",
       "141          3.13425        0.032125        0.000000                 0.050191   \n",
       "\n",
       "     Freedom to make life choices  Generosity  Perceptions of corruption  \n",
       "0                        0.625959    0.363876                   0.384374  \n",
       "1                        0.638049    0.328360                   0.344581  \n",
       "2                        0.621536    0.284849                   0.331408  \n",
       "3                        0.620642    0.328272                   0.328923  \n",
       "4                        0.618035    0.294748                   0.264521  \n",
       "..                            ...         ...                        ...  \n",
       "137                      0.244175    0.086517                   0.077457  \n",
       "138                      0.117924    0.165836                   0.159988  \n",
       "139                      0.386880    0.201743                   0.193705  \n",
       "140                      0.581611    0.345375                   0.354404  \n",
       "141                      0.322408    0.204192                   0.091979  \n",
       "\n",
       "[142 rows x 31 columns]"
      ]
     },
     "execution_count": 32,
     "metadata": {},
     "output_type": "execute_result"
    }
   ],
   "source": [
    "merged4"
   ]
  },
  {
   "cell_type": "code",
   "execution_count": 33,
   "metadata": {},
   "outputs": [],
   "source": [
    "merged4 = merged4.drop(\"Unnamed: 0\",axis = 1)"
   ]
  },
  {
   "cell_type": "markdown",
   "metadata": {},
   "source": [
    "### Saving"
   ]
  },
  {
   "cell_type": "code",
   "execution_count": null,
   "metadata": {},
   "outputs": [],
   "source": [
    "#merged4.to_csv(\"project.csv\",index = False)"
   ]
  },
  {
   "cell_type": "markdown",
   "metadata": {},
   "source": [
    "## Machine Learning and Visualization"
   ]
  },
  {
   "cell_type": "markdown",
   "metadata": {},
   "source": [
    "### Obtaining the data"
   ]
  },
  {
   "cell_type": "code",
   "execution_count": 34,
   "metadata": {},
   "outputs": [],
   "source": [
    "df = pd.read_csv(\"project.csv\")"
   ]
  },
  {
   "cell_type": "code",
   "execution_count": 37,
   "metadata": {},
   "outputs": [
    {
     "data": {
      "text/html": [
       "<div>\n",
       "<style scoped>\n",
       "    .dataframe tbody tr th:only-of-type {\n",
       "        vertical-align: middle;\n",
       "    }\n",
       "\n",
       "    .dataframe tbody tr th {\n",
       "        vertical-align: top;\n",
       "    }\n",
       "\n",
       "    .dataframe thead th {\n",
       "        text-align: right;\n",
       "    }\n",
       "</style>\n",
       "<table border=\"1\" class=\"dataframe\">\n",
       "  <thead>\n",
       "    <tr style=\"text-align: right;\">\n",
       "      <th></th>\n",
       "      <th>Country</th>\n",
       "      <th>Population</th>\n",
       "      <th>Area (sq. mi.)</th>\n",
       "      <th>Pop. Density (per sq. mi.)</th>\n",
       "      <th>Coastline (coast/area ratio)</th>\n",
       "      <th>Net migration</th>\n",
       "      <th>Infant mortality (per 1000 births)</th>\n",
       "      <th>GDP ($ per capita)</th>\n",
       "      <th>Literacy (%)</th>\n",
       "      <th>Phones (per 1000)</th>\n",
       "      <th>...</th>\n",
       "      <th>unemployment_percentage</th>\n",
       "      <th>Region</th>\n",
       "      <th>Happiness Rank</th>\n",
       "      <th>Happiness Score</th>\n",
       "      <th>GDP per capita</th>\n",
       "      <th>Social support</th>\n",
       "      <th>Healthy life expectancy</th>\n",
       "      <th>Freedom to make life choices</th>\n",
       "      <th>Generosity</th>\n",
       "      <th>Perceptions of corruption</th>\n",
       "    </tr>\n",
       "  </thead>\n",
       "  <tbody>\n",
       "    <tr>\n",
       "      <th>0</th>\n",
       "      <td>Denmark</td>\n",
       "      <td>5450661</td>\n",
       "      <td>43094</td>\n",
       "      <td>126.5</td>\n",
       "      <td>16.97</td>\n",
       "      <td>2.48</td>\n",
       "      <td>4.56</td>\n",
       "      <td>31100.0</td>\n",
       "      <td>100.0</td>\n",
       "      <td>614.6</td>\n",
       "      <td>...</td>\n",
       "      <td>5.8</td>\n",
       "      <td>Europe</td>\n",
       "      <td>1</td>\n",
       "      <td>7.54600</td>\n",
       "      <td>1.396729</td>\n",
       "      <td>1.447688</td>\n",
       "      <td>0.865249</td>\n",
       "      <td>0.625959</td>\n",
       "      <td>0.363876</td>\n",
       "      <td>0.384374</td>\n",
       "    </tr>\n",
       "    <tr>\n",
       "      <th>1</th>\n",
       "      <td>Norway</td>\n",
       "      <td>4610820</td>\n",
       "      <td>323802</td>\n",
       "      <td>14.2</td>\n",
       "      <td>7.77</td>\n",
       "      <td>1.74</td>\n",
       "      <td>3.70</td>\n",
       "      <td>37800.0</td>\n",
       "      <td>100.0</td>\n",
       "      <td>461.7</td>\n",
       "      <td>...</td>\n",
       "      <td>4.0</td>\n",
       "      <td>Europe</td>\n",
       "      <td>2</td>\n",
       "      <td>7.54100</td>\n",
       "      <td>1.519381</td>\n",
       "      <td>1.431075</td>\n",
       "      <td>0.873333</td>\n",
       "      <td>0.638049</td>\n",
       "      <td>0.328360</td>\n",
       "      <td>0.344581</td>\n",
       "    </tr>\n",
       "    <tr>\n",
       "      <th>2</th>\n",
       "      <td>Finland</td>\n",
       "      <td>5231372</td>\n",
       "      <td>338145</td>\n",
       "      <td>15.5</td>\n",
       "      <td>0.37</td>\n",
       "      <td>0.95</td>\n",
       "      <td>3.57</td>\n",
       "      <td>27400.0</td>\n",
       "      <td>100.0</td>\n",
       "      <td>405.3</td>\n",
       "      <td>...</td>\n",
       "      <td>8.7</td>\n",
       "      <td>Europe</td>\n",
       "      <td>3</td>\n",
       "      <td>7.53780</td>\n",
       "      <td>1.356960</td>\n",
       "      <td>1.434429</td>\n",
       "      <td>0.873836</td>\n",
       "      <td>0.621536</td>\n",
       "      <td>0.284849</td>\n",
       "      <td>0.331408</td>\n",
       "    </tr>\n",
       "    <tr>\n",
       "      <th>3</th>\n",
       "      <td>Switzerland</td>\n",
       "      <td>7523934</td>\n",
       "      <td>41290</td>\n",
       "      <td>182.2</td>\n",
       "      <td>0.00</td>\n",
       "      <td>4.05</td>\n",
       "      <td>4.39</td>\n",
       "      <td>32700.0</td>\n",
       "      <td>99.0</td>\n",
       "      <td>680.9</td>\n",
       "      <td>...</td>\n",
       "      <td>3.0</td>\n",
       "      <td>Europe</td>\n",
       "      <td>4</td>\n",
       "      <td>7.51140</td>\n",
       "      <td>1.472164</td>\n",
       "      <td>1.417332</td>\n",
       "      <td>0.928318</td>\n",
       "      <td>0.620642</td>\n",
       "      <td>0.328272</td>\n",
       "      <td>0.328923</td>\n",
       "    </tr>\n",
       "    <tr>\n",
       "      <th>4</th>\n",
       "      <td>Iceland</td>\n",
       "      <td>299388</td>\n",
       "      <td>103000</td>\n",
       "      <td>2.9</td>\n",
       "      <td>4.83</td>\n",
       "      <td>2.38</td>\n",
       "      <td>3.31</td>\n",
       "      <td>30900.0</td>\n",
       "      <td>99.9</td>\n",
       "      <td>647.7</td>\n",
       "      <td>...</td>\n",
       "      <td>2.8</td>\n",
       "      <td>Europe</td>\n",
       "      <td>5</td>\n",
       "      <td>7.51100</td>\n",
       "      <td>1.386523</td>\n",
       "      <td>1.492813</td>\n",
       "      <td>0.917744</td>\n",
       "      <td>0.618035</td>\n",
       "      <td>0.294748</td>\n",
       "      <td>0.264521</td>\n",
       "    </tr>\n",
       "    <tr>\n",
       "      <th>...</th>\n",
       "      <td>...</td>\n",
       "      <td>...</td>\n",
       "      <td>...</td>\n",
       "      <td>...</td>\n",
       "      <td>...</td>\n",
       "      <td>...</td>\n",
       "      <td>...</td>\n",
       "      <td>...</td>\n",
       "      <td>...</td>\n",
       "      <td>...</td>\n",
       "      <td>...</td>\n",
       "      <td>...</td>\n",
       "      <td>...</td>\n",
       "      <td>...</td>\n",
       "      <td>...</td>\n",
       "      <td>...</td>\n",
       "      <td>...</td>\n",
       "      <td>...</td>\n",
       "      <td>...</td>\n",
       "      <td>...</td>\n",
       "      <td>...</td>\n",
       "    </tr>\n",
       "    <tr>\n",
       "      <th>137</th>\n",
       "      <td>Yemen</td>\n",
       "      <td>21456188</td>\n",
       "      <td>527970</td>\n",
       "      <td>40.6</td>\n",
       "      <td>0.36</td>\n",
       "      <td>0.00</td>\n",
       "      <td>61.50</td>\n",
       "      <td>800.0</td>\n",
       "      <td>50.2</td>\n",
       "      <td>37.2</td>\n",
       "      <td>...</td>\n",
       "      <td>27.0</td>\n",
       "      <td>Africa</td>\n",
       "      <td>151</td>\n",
       "      <td>3.62580</td>\n",
       "      <td>0.489313</td>\n",
       "      <td>0.865448</td>\n",
       "      <td>0.365440</td>\n",
       "      <td>0.244175</td>\n",
       "      <td>0.086517</td>\n",
       "      <td>0.077457</td>\n",
       "    </tr>\n",
       "    <tr>\n",
       "      <th>138</th>\n",
       "      <td>Afghanistan</td>\n",
       "      <td>31056997</td>\n",
       "      <td>647500</td>\n",
       "      <td>48.0</td>\n",
       "      <td>0.00</td>\n",
       "      <td>23.06</td>\n",
       "      <td>163.07</td>\n",
       "      <td>700.0</td>\n",
       "      <td>36.0</td>\n",
       "      <td>3.2</td>\n",
       "      <td>...</td>\n",
       "      <td>35.0</td>\n",
       "      <td>Asia</td>\n",
       "      <td>152</td>\n",
       "      <td>3.51280</td>\n",
       "      <td>0.357113</td>\n",
       "      <td>0.409753</td>\n",
       "      <td>0.254707</td>\n",
       "      <td>0.117924</td>\n",
       "      <td>0.165836</td>\n",
       "      <td>0.159988</td>\n",
       "    </tr>\n",
       "    <tr>\n",
       "      <th>139</th>\n",
       "      <td>Tanzania</td>\n",
       "      <td>37445392</td>\n",
       "      <td>945087</td>\n",
       "      <td>39.6</td>\n",
       "      <td>0.15</td>\n",
       "      <td>-2.06</td>\n",
       "      <td>98.54</td>\n",
       "      <td>600.0</td>\n",
       "      <td>78.2</td>\n",
       "      <td>4.0</td>\n",
       "      <td>...</td>\n",
       "      <td>10.3</td>\n",
       "      <td>Africa</td>\n",
       "      <td>153</td>\n",
       "      <td>3.46600</td>\n",
       "      <td>0.439777</td>\n",
       "      <td>0.939380</td>\n",
       "      <td>0.396732</td>\n",
       "      <td>0.386880</td>\n",
       "      <td>0.201743</td>\n",
       "      <td>0.193705</td>\n",
       "    </tr>\n",
       "    <tr>\n",
       "      <th>140</th>\n",
       "      <td>Rwanda</td>\n",
       "      <td>8648248</td>\n",
       "      <td>26338</td>\n",
       "      <td>328.4</td>\n",
       "      <td>0.00</td>\n",
       "      <td>0.00</td>\n",
       "      <td>91.23</td>\n",
       "      <td>1300.0</td>\n",
       "      <td>70.4</td>\n",
       "      <td>2.7</td>\n",
       "      <td>...</td>\n",
       "      <td>2.7</td>\n",
       "      <td>Africa</td>\n",
       "      <td>154</td>\n",
       "      <td>3.43860</td>\n",
       "      <td>0.322057</td>\n",
       "      <td>0.788453</td>\n",
       "      <td>0.417543</td>\n",
       "      <td>0.581611</td>\n",
       "      <td>0.345375</td>\n",
       "      <td>0.354404</td>\n",
       "    </tr>\n",
       "    <tr>\n",
       "      <th>141</th>\n",
       "      <td>Central African Republic</td>\n",
       "      <td>4303356</td>\n",
       "      <td>622984</td>\n",
       "      <td>6.9</td>\n",
       "      <td>0.00</td>\n",
       "      <td>0.00</td>\n",
       "      <td>91.00</td>\n",
       "      <td>1100.0</td>\n",
       "      <td>51.0</td>\n",
       "      <td>2.3</td>\n",
       "      <td>...</td>\n",
       "      <td>8.0</td>\n",
       "      <td>Africa</td>\n",
       "      <td>155</td>\n",
       "      <td>3.13425</td>\n",
       "      <td>0.032125</td>\n",
       "      <td>0.000000</td>\n",
       "      <td>0.050191</td>\n",
       "      <td>0.322408</td>\n",
       "      <td>0.204192</td>\n",
       "      <td>0.091979</td>\n",
       "    </tr>\n",
       "  </tbody>\n",
       "</table>\n",
       "<p>142 rows × 30 columns</p>\n",
       "</div>"
      ],
      "text/plain": [
       "                      Country  Population  Area (sq. mi.)  \\\n",
       "0                     Denmark     5450661           43094   \n",
       "1                      Norway     4610820          323802   \n",
       "2                     Finland     5231372          338145   \n",
       "3                 Switzerland     7523934           41290   \n",
       "4                     Iceland      299388          103000   \n",
       "..                        ...         ...             ...   \n",
       "137                     Yemen    21456188          527970   \n",
       "138               Afghanistan    31056997          647500   \n",
       "139                  Tanzania    37445392          945087   \n",
       "140                    Rwanda     8648248           26338   \n",
       "141  Central African Republic     4303356          622984   \n",
       "\n",
       "     Pop. Density (per sq. mi.)  Coastline (coast/area ratio)  Net migration  \\\n",
       "0                         126.5                         16.97           2.48   \n",
       "1                          14.2                          7.77           1.74   \n",
       "2                          15.5                          0.37           0.95   \n",
       "3                         182.2                          0.00           4.05   \n",
       "4                           2.9                          4.83           2.38   \n",
       "..                          ...                           ...            ...   \n",
       "137                        40.6                          0.36           0.00   \n",
       "138                        48.0                          0.00          23.06   \n",
       "139                        39.6                          0.15          -2.06   \n",
       "140                       328.4                          0.00           0.00   \n",
       "141                         6.9                          0.00           0.00   \n",
       "\n",
       "     Infant mortality (per 1000 births)  GDP ($ per capita)  Literacy (%)  \\\n",
       "0                                  4.56             31100.0         100.0   \n",
       "1                                  3.70             37800.0         100.0   \n",
       "2                                  3.57             27400.0         100.0   \n",
       "3                                  4.39             32700.0          99.0   \n",
       "4                                  3.31             30900.0          99.9   \n",
       "..                                  ...                 ...           ...   \n",
       "137                               61.50               800.0          50.2   \n",
       "138                              163.07               700.0          36.0   \n",
       "139                               98.54               600.0          78.2   \n",
       "140                               91.23              1300.0          70.4   \n",
       "141                               91.00              1100.0          51.0   \n",
       "\n",
       "     Phones (per 1000)  ...  unemployment_percentage  Region  Happiness Rank  \\\n",
       "0                614.6  ...                      5.8  Europe               1   \n",
       "1                461.7  ...                      4.0  Europe               2   \n",
       "2                405.3  ...                      8.7  Europe               3   \n",
       "3                680.9  ...                      3.0  Europe               4   \n",
       "4                647.7  ...                      2.8  Europe               5   \n",
       "..                 ...  ...                      ...     ...             ...   \n",
       "137               37.2  ...                     27.0  Africa             151   \n",
       "138                3.2  ...                     35.0    Asia             152   \n",
       "139                4.0  ...                     10.3  Africa             153   \n",
       "140                2.7  ...                      2.7  Africa             154   \n",
       "141                2.3  ...                      8.0  Africa             155   \n",
       "\n",
       "     Happiness Score  GDP per capita  Social support  Healthy life expectancy  \\\n",
       "0            7.54600        1.396729        1.447688                 0.865249   \n",
       "1            7.54100        1.519381        1.431075                 0.873333   \n",
       "2            7.53780        1.356960        1.434429                 0.873836   \n",
       "3            7.51140        1.472164        1.417332                 0.928318   \n",
       "4            7.51100        1.386523        1.492813                 0.917744   \n",
       "..               ...             ...             ...                      ...   \n",
       "137          3.62580        0.489313        0.865448                 0.365440   \n",
       "138          3.51280        0.357113        0.409753                 0.254707   \n",
       "139          3.46600        0.439777        0.939380                 0.396732   \n",
       "140          3.43860        0.322057        0.788453                 0.417543   \n",
       "141          3.13425        0.032125        0.000000                 0.050191   \n",
       "\n",
       "     Freedom to make life choices  Generosity  Perceptions of corruption  \n",
       "0                        0.625959    0.363876                   0.384374  \n",
       "1                        0.638049    0.328360                   0.344581  \n",
       "2                        0.621536    0.284849                   0.331408  \n",
       "3                        0.620642    0.328272                   0.328923  \n",
       "4                        0.618035    0.294748                   0.264521  \n",
       "..                            ...         ...                        ...  \n",
       "137                      0.244175    0.086517                   0.077457  \n",
       "138                      0.117924    0.165836                   0.159988  \n",
       "139                      0.386880    0.201743                   0.193705  \n",
       "140                      0.581611    0.345375                   0.354404  \n",
       "141                      0.322408    0.204192                   0.091979  \n",
       "\n",
       "[142 rows x 30 columns]"
      ]
     },
     "execution_count": 37,
     "metadata": {},
     "output_type": "execute_result"
    }
   ],
   "source": [
    "df = df.sort_values(\"Happiness Score\",ascending = False, ignore_index = True)\n",
    "df"
   ]
  },
  {
   "cell_type": "code",
   "execution_count": 38,
   "metadata": {},
   "outputs": [],
   "source": [
    "to_remove = ['Happiness Rank','GDP per capita','Healthy life expectancy','Perceptions of corruption','Region','Country']"
   ]
  },
  {
   "cell_type": "code",
   "execution_count": 39,
   "metadata": {},
   "outputs": [
    {
     "data": {
      "text/html": [
       "<div>\n",
       "<style scoped>\n",
       "    .dataframe tbody tr th:only-of-type {\n",
       "        vertical-align: middle;\n",
       "    }\n",
       "\n",
       "    .dataframe tbody tr th {\n",
       "        vertical-align: top;\n",
       "    }\n",
       "\n",
       "    .dataframe thead th {\n",
       "        text-align: right;\n",
       "    }\n",
       "</style>\n",
       "<table border=\"1\" class=\"dataframe\">\n",
       "  <thead>\n",
       "    <tr style=\"text-align: right;\">\n",
       "      <th></th>\n",
       "      <th>Population</th>\n",
       "      <th>Area (sq. mi.)</th>\n",
       "      <th>Pop. Density (per sq. mi.)</th>\n",
       "      <th>Coastline (coast/area ratio)</th>\n",
       "      <th>Net migration</th>\n",
       "      <th>Infant mortality (per 1000 births)</th>\n",
       "      <th>GDP ($ per capita)</th>\n",
       "      <th>Literacy (%)</th>\n",
       "      <th>Phones (per 1000)</th>\n",
       "      <th>Arable (%)</th>\n",
       "      <th>...</th>\n",
       "      <th>Agriculture</th>\n",
       "      <th>Industry</th>\n",
       "      <th>Service</th>\n",
       "      <th>Life expectancy</th>\n",
       "      <th>CPI Score</th>\n",
       "      <th>unemployment_percentage</th>\n",
       "      <th>Happiness Score</th>\n",
       "      <th>Social support</th>\n",
       "      <th>Freedom to make life choices</th>\n",
       "      <th>Generosity</th>\n",
       "    </tr>\n",
       "  </thead>\n",
       "  <tbody>\n",
       "    <tr>\n",
       "      <th>0</th>\n",
       "      <td>5450661</td>\n",
       "      <td>43094</td>\n",
       "      <td>126.5</td>\n",
       "      <td>16.97</td>\n",
       "      <td>2.48</td>\n",
       "      <td>4.56</td>\n",
       "      <td>31100.0</td>\n",
       "      <td>100.0</td>\n",
       "      <td>614.6</td>\n",
       "      <td>54.02</td>\n",
       "      <td>...</td>\n",
       "      <td>0.018</td>\n",
       "      <td>0.246</td>\n",
       "      <td>0.735</td>\n",
       "      <td>79.25625</td>\n",
       "      <td>90.392080</td>\n",
       "      <td>5.8</td>\n",
       "      <td>7.54600</td>\n",
       "      <td>1.447688</td>\n",
       "      <td>0.625959</td>\n",
       "      <td>0.363876</td>\n",
       "    </tr>\n",
       "    <tr>\n",
       "      <th>1</th>\n",
       "      <td>4610820</td>\n",
       "      <td>323802</td>\n",
       "      <td>14.2</td>\n",
       "      <td>7.77</td>\n",
       "      <td>1.74</td>\n",
       "      <td>3.70</td>\n",
       "      <td>37800.0</td>\n",
       "      <td>100.0</td>\n",
       "      <td>461.7</td>\n",
       "      <td>2.87</td>\n",
       "      <td>...</td>\n",
       "      <td>0.021</td>\n",
       "      <td>0.415</td>\n",
       "      <td>0.564</td>\n",
       "      <td>81.79375</td>\n",
       "      <td>85.889854</td>\n",
       "      <td>4.0</td>\n",
       "      <td>7.54100</td>\n",
       "      <td>1.431075</td>\n",
       "      <td>0.638049</td>\n",
       "      <td>0.328360</td>\n",
       "    </tr>\n",
       "    <tr>\n",
       "      <th>2</th>\n",
       "      <td>5231372</td>\n",
       "      <td>338145</td>\n",
       "      <td>15.5</td>\n",
       "      <td>0.37</td>\n",
       "      <td>0.95</td>\n",
       "      <td>3.57</td>\n",
       "      <td>27400.0</td>\n",
       "      <td>100.0</td>\n",
       "      <td>405.3</td>\n",
       "      <td>7.19</td>\n",
       "      <td>...</td>\n",
       "      <td>0.028</td>\n",
       "      <td>0.295</td>\n",
       "      <td>0.676</td>\n",
       "      <td>80.71250</td>\n",
       "      <td>88.903927</td>\n",
       "      <td>8.7</td>\n",
       "      <td>7.53780</td>\n",
       "      <td>1.434429</td>\n",
       "      <td>0.621536</td>\n",
       "      <td>0.284849</td>\n",
       "    </tr>\n",
       "    <tr>\n",
       "      <th>3</th>\n",
       "      <td>7523934</td>\n",
       "      <td>41290</td>\n",
       "      <td>182.2</td>\n",
       "      <td>0.00</td>\n",
       "      <td>4.05</td>\n",
       "      <td>4.39</td>\n",
       "      <td>32700.0</td>\n",
       "      <td>99.0</td>\n",
       "      <td>680.9</td>\n",
       "      <td>10.42</td>\n",
       "      <td>...</td>\n",
       "      <td>0.015</td>\n",
       "      <td>0.340</td>\n",
       "      <td>0.645</td>\n",
       "      <td>82.33125</td>\n",
       "      <td>85.901674</td>\n",
       "      <td>3.0</td>\n",
       "      <td>7.51140</td>\n",
       "      <td>1.417332</td>\n",
       "      <td>0.620642</td>\n",
       "      <td>0.328272</td>\n",
       "    </tr>\n",
       "    <tr>\n",
       "      <th>4</th>\n",
       "      <td>299388</td>\n",
       "      <td>103000</td>\n",
       "      <td>2.9</td>\n",
       "      <td>4.83</td>\n",
       "      <td>2.38</td>\n",
       "      <td>3.31</td>\n",
       "      <td>30900.0</td>\n",
       "      <td>99.9</td>\n",
       "      <td>647.7</td>\n",
       "      <td>0.07</td>\n",
       "      <td>...</td>\n",
       "      <td>0.086</td>\n",
       "      <td>0.150</td>\n",
       "      <td>0.765</td>\n",
       "      <td>82.44375</td>\n",
       "      <td>79.474027</td>\n",
       "      <td>2.8</td>\n",
       "      <td>7.51100</td>\n",
       "      <td>1.492813</td>\n",
       "      <td>0.618035</td>\n",
       "      <td>0.294748</td>\n",
       "    </tr>\n",
       "    <tr>\n",
       "      <th>...</th>\n",
       "      <td>...</td>\n",
       "      <td>...</td>\n",
       "      <td>...</td>\n",
       "      <td>...</td>\n",
       "      <td>...</td>\n",
       "      <td>...</td>\n",
       "      <td>...</td>\n",
       "      <td>...</td>\n",
       "      <td>...</td>\n",
       "      <td>...</td>\n",
       "      <td>...</td>\n",
       "      <td>...</td>\n",
       "      <td>...</td>\n",
       "      <td>...</td>\n",
       "      <td>...</td>\n",
       "      <td>...</td>\n",
       "      <td>...</td>\n",
       "      <td>...</td>\n",
       "      <td>...</td>\n",
       "      <td>...</td>\n",
       "      <td>...</td>\n",
       "    </tr>\n",
       "    <tr>\n",
       "      <th>137</th>\n",
       "      <td>21456188</td>\n",
       "      <td>527970</td>\n",
       "      <td>40.6</td>\n",
       "      <td>0.36</td>\n",
       "      <td>0.00</td>\n",
       "      <td>61.50</td>\n",
       "      <td>800.0</td>\n",
       "      <td>50.2</td>\n",
       "      <td>37.2</td>\n",
       "      <td>2.78</td>\n",
       "      <td>...</td>\n",
       "      <td>0.135</td>\n",
       "      <td>0.472</td>\n",
       "      <td>0.393</td>\n",
       "      <td>63.86250</td>\n",
       "      <td>17.980347</td>\n",
       "      <td>27.0</td>\n",
       "      <td>3.62580</td>\n",
       "      <td>0.865448</td>\n",
       "      <td>0.244175</td>\n",
       "      <td>0.086517</td>\n",
       "    </tr>\n",
       "    <tr>\n",
       "      <th>138</th>\n",
       "      <td>31056997</td>\n",
       "      <td>647500</td>\n",
       "      <td>48.0</td>\n",
       "      <td>0.00</td>\n",
       "      <td>23.06</td>\n",
       "      <td>163.07</td>\n",
       "      <td>700.0</td>\n",
       "      <td>36.0</td>\n",
       "      <td>3.2</td>\n",
       "      <td>12.13</td>\n",
       "      <td>...</td>\n",
       "      <td>0.380</td>\n",
       "      <td>0.240</td>\n",
       "      <td>0.380</td>\n",
       "      <td>58.19375</td>\n",
       "      <td>13.017093</td>\n",
       "      <td>35.0</td>\n",
       "      <td>3.51280</td>\n",
       "      <td>0.409753</td>\n",
       "      <td>0.117924</td>\n",
       "      <td>0.165836</td>\n",
       "    </tr>\n",
       "    <tr>\n",
       "      <th>139</th>\n",
       "      <td>37445392</td>\n",
       "      <td>945087</td>\n",
       "      <td>39.6</td>\n",
       "      <td>0.15</td>\n",
       "      <td>-2.06</td>\n",
       "      <td>98.54</td>\n",
       "      <td>600.0</td>\n",
       "      <td>78.2</td>\n",
       "      <td>4.0</td>\n",
       "      <td>4.52</td>\n",
       "      <td>...</td>\n",
       "      <td>0.432</td>\n",
       "      <td>0.172</td>\n",
       "      <td>0.396</td>\n",
       "      <td>56.00625</td>\n",
       "      <td>32.650526</td>\n",
       "      <td>10.3</td>\n",
       "      <td>3.46600</td>\n",
       "      <td>0.939380</td>\n",
       "      <td>0.386880</td>\n",
       "      <td>0.201743</td>\n",
       "    </tr>\n",
       "    <tr>\n",
       "      <th>140</th>\n",
       "      <td>8648248</td>\n",
       "      <td>26338</td>\n",
       "      <td>328.4</td>\n",
       "      <td>0.00</td>\n",
       "      <td>0.00</td>\n",
       "      <td>91.23</td>\n",
       "      <td>1300.0</td>\n",
       "      <td>70.4</td>\n",
       "      <td>2.7</td>\n",
       "      <td>40.54</td>\n",
       "      <td>...</td>\n",
       "      <td>0.401</td>\n",
       "      <td>0.229</td>\n",
       "      <td>0.370</td>\n",
       "      <td>59.31250</td>\n",
       "      <td>51.683419</td>\n",
       "      <td>2.7</td>\n",
       "      <td>3.43860</td>\n",
       "      <td>0.788453</td>\n",
       "      <td>0.581611</td>\n",
       "      <td>0.345375</td>\n",
       "    </tr>\n",
       "    <tr>\n",
       "      <th>141</th>\n",
       "      <td>4303356</td>\n",
       "      <td>622984</td>\n",
       "      <td>6.9</td>\n",
       "      <td>0.00</td>\n",
       "      <td>0.00</td>\n",
       "      <td>91.00</td>\n",
       "      <td>1100.0</td>\n",
       "      <td>51.0</td>\n",
       "      <td>2.3</td>\n",
       "      <td>3.10</td>\n",
       "      <td>...</td>\n",
       "      <td>0.550</td>\n",
       "      <td>0.200</td>\n",
       "      <td>0.250</td>\n",
       "      <td>48.51250</td>\n",
       "      <td>23.610424</td>\n",
       "      <td>8.0</td>\n",
       "      <td>3.13425</td>\n",
       "      <td>0.000000</td>\n",
       "      <td>0.322408</td>\n",
       "      <td>0.204192</td>\n",
       "    </tr>\n",
       "  </tbody>\n",
       "</table>\n",
       "<p>142 rows × 24 columns</p>\n",
       "</div>"
      ],
      "text/plain": [
       "     Population  Area (sq. mi.)  Pop. Density (per sq. mi.)  \\\n",
       "0       5450661           43094                       126.5   \n",
       "1       4610820          323802                        14.2   \n",
       "2       5231372          338145                        15.5   \n",
       "3       7523934           41290                       182.2   \n",
       "4        299388          103000                         2.9   \n",
       "..          ...             ...                         ...   \n",
       "137    21456188          527970                        40.6   \n",
       "138    31056997          647500                        48.0   \n",
       "139    37445392          945087                        39.6   \n",
       "140     8648248           26338                       328.4   \n",
       "141     4303356          622984                         6.9   \n",
       "\n",
       "     Coastline (coast/area ratio)  Net migration  \\\n",
       "0                           16.97           2.48   \n",
       "1                            7.77           1.74   \n",
       "2                            0.37           0.95   \n",
       "3                            0.00           4.05   \n",
       "4                            4.83           2.38   \n",
       "..                            ...            ...   \n",
       "137                          0.36           0.00   \n",
       "138                          0.00          23.06   \n",
       "139                          0.15          -2.06   \n",
       "140                          0.00           0.00   \n",
       "141                          0.00           0.00   \n",
       "\n",
       "     Infant mortality (per 1000 births)  GDP ($ per capita)  Literacy (%)  \\\n",
       "0                                  4.56             31100.0         100.0   \n",
       "1                                  3.70             37800.0         100.0   \n",
       "2                                  3.57             27400.0         100.0   \n",
       "3                                  4.39             32700.0          99.0   \n",
       "4                                  3.31             30900.0          99.9   \n",
       "..                                  ...                 ...           ...   \n",
       "137                               61.50               800.0          50.2   \n",
       "138                              163.07               700.0          36.0   \n",
       "139                               98.54               600.0          78.2   \n",
       "140                               91.23              1300.0          70.4   \n",
       "141                               91.00              1100.0          51.0   \n",
       "\n",
       "     Phones (per 1000)  Arable (%)  ...  Agriculture  Industry  Service  \\\n",
       "0                614.6       54.02  ...        0.018     0.246    0.735   \n",
       "1                461.7        2.87  ...        0.021     0.415    0.564   \n",
       "2                405.3        7.19  ...        0.028     0.295    0.676   \n",
       "3                680.9       10.42  ...        0.015     0.340    0.645   \n",
       "4                647.7        0.07  ...        0.086     0.150    0.765   \n",
       "..                 ...         ...  ...          ...       ...      ...   \n",
       "137               37.2        2.78  ...        0.135     0.472    0.393   \n",
       "138                3.2       12.13  ...        0.380     0.240    0.380   \n",
       "139                4.0        4.52  ...        0.432     0.172    0.396   \n",
       "140                2.7       40.54  ...        0.401     0.229    0.370   \n",
       "141                2.3        3.10  ...        0.550     0.200    0.250   \n",
       "\n",
       "     Life expectancy  CPI Score  unemployment_percentage  Happiness Score  \\\n",
       "0           79.25625  90.392080                      5.8          7.54600   \n",
       "1           81.79375  85.889854                      4.0          7.54100   \n",
       "2           80.71250  88.903927                      8.7          7.53780   \n",
       "3           82.33125  85.901674                      3.0          7.51140   \n",
       "4           82.44375  79.474027                      2.8          7.51100   \n",
       "..               ...        ...                      ...              ...   \n",
       "137         63.86250  17.980347                     27.0          3.62580   \n",
       "138         58.19375  13.017093                     35.0          3.51280   \n",
       "139         56.00625  32.650526                     10.3          3.46600   \n",
       "140         59.31250  51.683419                      2.7          3.43860   \n",
       "141         48.51250  23.610424                      8.0          3.13425   \n",
       "\n",
       "     Social support  Freedom to make life choices  Generosity  \n",
       "0          1.447688                      0.625959    0.363876  \n",
       "1          1.431075                      0.638049    0.328360  \n",
       "2          1.434429                      0.621536    0.284849  \n",
       "3          1.417332                      0.620642    0.328272  \n",
       "4          1.492813                      0.618035    0.294748  \n",
       "..              ...                           ...         ...  \n",
       "137        0.865448                      0.244175    0.086517  \n",
       "138        0.409753                      0.117924    0.165836  \n",
       "139        0.939380                      0.386880    0.201743  \n",
       "140        0.788453                      0.581611    0.345375  \n",
       "141        0.000000                      0.322408    0.204192  \n",
       "\n",
       "[142 rows x 24 columns]"
      ]
     },
     "execution_count": 39,
     "metadata": {},
     "output_type": "execute_result"
    }
   ],
   "source": [
    "df = df.drop(to_remove,axis = 1)\n",
    "df"
   ]
  },
  {
   "cell_type": "markdown",
   "metadata": {},
   "source": [
    "## Visualization"
   ]
  },
  {
   "cell_type": "markdown",
   "metadata": {},
   "source": [
    "### Correlation Matrix"
   ]
  },
  {
   "cell_type": "code",
   "execution_count": 44,
   "metadata": {},
   "outputs": [
    {
     "data": {
      "image/png": "[encoded data removed]",
      "text/plain": [
       "<Figure size 432x288 with 2 Axes>"
      ]
     },
     "metadata": {
      "needs_background": "light"
     },
     "output_type": "display_data"
    }
   ],
   "source": [
    "corr_mat = df.corr()\n",
    "mask = np.zeros_like(corr_mat)\n",
    "mask[np.triu_indices_from(mask)] = True\n",
    "sns.heatmap(corr_mat, mask=mask);"
   ]
  },
  {
   "cell_type": "markdown",
   "metadata": {},
   "source": [
    "### Checking the correlation between two variables"
   ]
  },
  {
   "cell_type": "code",
   "execution_count": 45,
   "metadata": {},
   "outputs": [
    {
     "data": {
      "image/png": "[encoded data removed]",
      "text/plain": [
       "<Figure size 360x360 with 1 Axes>"
      ]
     },
     "metadata": {
      "needs_background": "light"
     },
     "output_type": "display_data"
    }
   ],
   "source": [
    "sns.lmplot(x = \"Freedom to make life choices\",y = \"Literacy (%)\",\n",
    "           line_kws={'color': 'blue'},\n",
    "           scatter_kws={'color': 'teal'},\n",
    "           data = df);"
   ]
  },
  {
   "cell_type": "code",
   "execution_count": 46,
   "metadata": {},
   "outputs": [
    {
     "data": {
      "image/png": "[encoded data removed]",
      "text/plain": [
       "<Figure size 360x360 with 1 Axes>"
      ]
     },
     "metadata": {
      "needs_background": "light"
     },
     "output_type": "display_data"
    }
   ],
   "source": [
    "sns.lmplot(x = \"Birthrate\",y = \"Infant mortality (per 1000 births)\",line_kws={'color': 'red'},\n",
    "           scatter_kws={'color': 'orange'},\n",
    "           data = df);"
   ]
  },
  {
   "cell_type": "code",
   "execution_count": 47,
   "metadata": {},
   "outputs": [
    {
     "data": {
      "image/png": "[encoded data removed]",
      "text/plain": [
       "<Figure size 360x360 with 1 Axes>"
      ]
     },
     "metadata": {
      "needs_background": "light"
     },
     "output_type": "display_data"
    }
   ],
   "source": [
    "sns.lmplot(x = \"GDP ($ per capita)\",y = \"Phones (per 1000)\",line_kws={'color': 'green'},\n",
    "           scatter_kws={'color': 'purple'},\n",
    "           data = df);"
   ]
  },
  {
   "cell_type": "code",
   "execution_count": 48,
   "metadata": {},
   "outputs": [
    {
     "data": {
      "image/png": "[encoded data removed]",
      "text/plain": [
       "<Figure size 360x360 with 1 Axes>"
      ]
     },
     "metadata": {
      "needs_background": "light"
     },
     "output_type": "display_data"
    }
   ],
   "source": [
    "sns.lmplot(x = \"Happiness Score\",y = \"GDP ($ per capita)\",line_kws={'color': 'green'},\n",
    "           scatter_kws={'color': 'gray'},\n",
    "           data = df);"
   ]
  },
  {
   "cell_type": "code",
   "execution_count": 49,
   "metadata": {},
   "outputs": [
    {
     "data": {
      "image/png": "[encoded data removed]",
      "text/plain": [
       "<Figure size 360x360 with 1 Axes>"
      ]
     },
     "metadata": {
      "needs_background": "light"
     },
     "output_type": "display_data"
    }
   ],
   "source": [
    "sns.lmplot(x = \"Life expectancy\",y = \"Happiness Score\",line_kws={'color': 'black'},\n",
    "           scatter_kws={'color': 'green'},\n",
    "           data = df);"
   ]
  },
  {
   "cell_type": "code",
   "execution_count": 50,
   "metadata": {},
   "outputs": [
    {
     "data": {
      "image/png": "[encoded data removed]",
      "text/plain": [
       "<Figure size 360x360 with 1 Axes>"
      ]
     },
     "metadata": {
      "needs_background": "light"
     },
     "output_type": "display_data"
    }
   ],
   "source": [
    "sns.lmplot(x = \"CPI Score\",y = \"Happiness Score\",line_kws={'color': 'green'},\n",
    "           scatter_kws={'color': 'purple'},\n",
    "           data = df);"
   ]
  },
  {
   "cell_type": "code",
   "execution_count": 52,
   "metadata": {},
   "outputs": [
    {
     "data": {
      "image/png": "[encoded data removed]",
      "text/plain": [
       "<Figure size 360x360 with 1 Axes>"
      ]
     },
     "metadata": {
      "needs_background": "light"
     },
     "output_type": "display_data"
    }
   ],
   "source": [
    "sns.lmplot(x = \"unemployment_percentage\",y = \"Happiness Score\",line_kws={'color': 'darkblue'},\n",
    "           scatter_kws={'color': 'red'},\n",
    "           data = df);"
   ]
  },
  {
   "cell_type": "markdown",
   "metadata": {},
   "source": [
    "## Machine Learning"
   ]
  },
  {
   "cell_type": "markdown",
   "metadata": {},
   "source": [
    "### Dividing the data into \"Attributes\" and \"Labels\""
   ]
  },
  {
   "cell_type": "code",
   "execution_count": 53,
   "metadata": {},
   "outputs": [],
   "source": [
    "X_col = list(df.columns)\n",
    "X_col.remove(\"Happiness Score\")\n",
    "y_col = [\"Happiness Score\"]\n",
    "X = df[X_col].values\n",
    "y = df[y_col].values"
   ]
  },
  {
   "cell_type": "markdown",
   "metadata": {},
   "source": [
    "### Splitting the data into \"Train\" and \"Test\" "
   ]
  },
  {
   "cell_type": "code",
   "execution_count": 54,
   "metadata": {},
   "outputs": [],
   "source": [
    "from sklearn.model_selection import train_test_split\n",
    "X_train, X_test, y_train, y_test = train_test_split(X, y, test_size = 0.2)"
   ]
  },
  {
   "cell_type": "markdown",
   "metadata": {},
   "source": [
    "### Linear Regression"
   ]
  },
  {
   "cell_type": "markdown",
   "metadata": {},
   "source": [
    "#### Fitting the train data into Regression model"
   ]
  },
  {
   "cell_type": "code",
   "execution_count": 56,
   "metadata": {},
   "outputs": [],
   "source": [
    "from sklearn.linear_model import LinearRegression\n",
    "regressor = LinearRegression()\n",
    "regressor.fit(X_train, y_train);"
   ]
  },
  {
   "cell_type": "markdown",
   "metadata": {},
   "source": [
    "#### Constructing y_true and y_pred (observed and predicted)"
   ]
  },
  {
   "cell_type": "code",
   "execution_count": 57,
   "metadata": {},
   "outputs": [],
   "source": [
    "y_pred = regressor.predict(X_test)\n",
    "y_true = y_test"
   ]
  },
  {
   "cell_type": "markdown",
   "metadata": {},
   "source": [
    "#### Function to calculate pearson correlation coefficent"
   ]
  },
  {
   "cell_type": "code",
   "execution_count": 58,
   "metadata": {},
   "outputs": [],
   "source": [
    "def calc_pearson(observed, predicted):\n",
    "    n = len(observed)\n",
    "    sum_x = 0\n",
    "    sum_sqr_x = 0\n",
    "    sum_y = 0\n",
    "    sum_sqr_y = 0\n",
    "    sum_xy = 0\n",
    "    for i in observed:\n",
    "        sum_x += i \n",
    "        sum_sqr_x += i**2\n",
    "    for i in predicted:\n",
    "        sum_y += i\n",
    "        sum_sqr_y += i**2\n",
    "    for i in range(n):\n",
    "        sum_xy += observed[i]*predicted[i]\n",
    "        \n",
    "    pearson_r = (sum_xy -(n*(sum_x/n)*(sum_y/n))) / ((sum_sqr_x - n*(sum_x/n)**2) * (sum_sqr_y - n*(sum_y/n)**2))**0.5\n",
    "    \n",
    "    \n",
    "    return pearson_r"
   ]
  },
  {
   "cell_type": "markdown",
   "metadata": {},
   "source": [
    "#### Calculating pearson correlation coefficent, MAE, MSE , RMSE"
   ]
  },
  {
   "cell_type": "code",
   "execution_count": 59,
   "metadata": {},
   "outputs": [
    {
     "data": {
      "text/plain": [
       "0.8650521220357712"
      ]
     },
     "execution_count": 59,
     "metadata": {},
     "output_type": "execute_result"
    }
   ],
   "source": [
    "calc_pearson(y_true,y_pred)[0]"
   ]
  },
  {
   "cell_type": "code",
   "execution_count": 60,
   "metadata": {},
   "outputs": [
    {
     "name": "stdout",
     "output_type": "stream",
     "text": [
      "Mean Absolute Error: 0.455993528658897\n",
      "Mean Squared Error: 0.29880729521145893\n",
      "Root Mean Squared Error: 0.5466326876536556\n"
     ]
    }
   ],
   "source": [
    "print('Mean Absolute Error:', sk.metrics.mean_absolute_error(y_test, y_pred))  \n",
    "print('Mean Squared Error:', sk.metrics.mean_squared_error(y_test, y_pred))  \n",
    "print('Root Mean Squared Error:', np.sqrt(sk.metrics.mean_squared_error(y_test, y_pred)))"
   ]
  },
  {
   "cell_type": "markdown",
   "metadata": {},
   "source": [
    "#### Actual vs Predicted Barplot"
   ]
  },
  {
   "cell_type": "code",
   "execution_count": 61,
   "metadata": {},
   "outputs": [
    {
     "data": {
      "image/png": "[encoded data removed]",
      "text/plain": [
       "<Figure size 720x576 with 1 Axes>"
      ]
     },
     "metadata": {
      "needs_background": "light"
     },
     "output_type": "display_data"
    }
   ],
   "source": [
    "actual = pd.Series(name = \"Actual\",data = y_true.reshape(len(y_true),))\n",
    "predicted = pd.Series(name = \"Predicted\",data = y_pred.reshape(len(y_pred),))\n",
    "\n",
    "df_bar = pd.DataFrame({\"Actual\": actual, \"Predicted\": predicted})\n",
    "\n",
    "df_bar.plot(kind='bar',figsize=(10,8))\n",
    "plt.grid(which='major', linestyle='-', linewidth='0.5', color='green')\n",
    "plt.grid(which='minor', linestyle=':', linewidth='0.5', color='black')\n",
    "plt.show()"
   ]
  },
  {
   "cell_type": "markdown",
   "metadata": {},
   "source": [
    "#### Observed vs Predicted Plot"
   ]
  },
  {
   "cell_type": "code",
   "execution_count": 62,
   "metadata": {},
   "outputs": [
    {
     "data": {
      "image/png": "[encoded data removed]",
      "text/plain": [
       "<Figure size 432x288 with 1 Axes>"
      ]
     },
     "metadata": {
      "needs_background": "light"
     },
     "output_type": "display_data"
    }
   ],
   "source": [
    "plt.scatter(y_pred,y_test,  color='orange')\n",
    "plt.plot([0,10], [0,10],'--', color = 'gray')\n",
    "plt.show()"
   ]
  },
  {
   "cell_type": "markdown",
   "metadata": {},
   "source": [
    "### Decision Tree Regression"
   ]
  },
  {
   "cell_type": "code",
   "execution_count": 64,
   "metadata": {},
   "outputs": [],
   "source": [
    "from sklearn.tree import DecisionTreeRegressor\n",
    "regressor = DecisionTreeRegressor()\n",
    "regressor.fit(X_train, y_train)\n",
    "y_pred = regressor.predict(X_test)\n",
    "\n",
    "y_true = y_test"
   ]
  },
  {
   "cell_type": "markdown",
   "metadata": {},
   "source": [
    "#### Pearson Coorelation Coefficent, MAE, MSE, RMSE"
   ]
  },
  {
   "cell_type": "code",
   "execution_count": 74,
   "metadata": {},
   "outputs": [
    {
     "name": "stdout",
     "output_type": "stream",
     "text": [
      "Pearson Coorelation Coefficent:  0.7982292033662802\n",
      "Mean Absolute Error: 0.5068183359860783\n",
      "Mean Squared Error: 0.4261105558091453\n",
      "Root Mean Squared Error: 0.6527714422438724\n"
     ]
    }
   ],
   "source": [
    "print(\"Pearson Coorelation Coefficent: \",calc_pearson(y_true,y_pred)[0])\n",
    "print('Mean Absolute Error:', sk.metrics.mean_absolute_error(y_test, y_pred))  \n",
    "print('Mean Squared Error:', sk.metrics.mean_squared_error(y_test, y_pred))  \n",
    "print('Root Mean Squared Error:', np.sqrt(sk.metrics.mean_squared_error(y_test, y_pred)))"
   ]
  },
  {
   "cell_type": "markdown",
   "metadata": {},
   "source": [
    "#### Observed vs Predicted plot"
   ]
  },
  {
   "cell_type": "code",
   "execution_count": 66,
   "metadata": {},
   "outputs": [
    {
     "data": {
      "image/png": "[encoded data removed]",
      "text/plain": [
       "<Figure size 432x288 with 1 Axes>"
      ]
     },
     "metadata": {
      "needs_background": "light"
     },
     "output_type": "display_data"
    }
   ],
   "source": [
    "plt.scatter(y_pred,y_test,  color='orange')\n",
    "plt.plot([0,9], [0,9],'--', color = 'gray')\n",
    "plt.show()"
   ]
  },
  {
   "cell_type": "markdown",
   "metadata": {},
   "source": [
    "#### Actual vs Predicted Barplot"
   ]
  },
  {
   "cell_type": "code",
   "execution_count": 67,
   "metadata": {},
   "outputs": [
    {
     "data": {
      "image/png": "[encoded data removed]",
      "text/plain": [
       "<Figure size 720x576 with 1 Axes>"
      ]
     },
     "metadata": {
      "needs_background": "light"
     },
     "output_type": "display_data"
    }
   ],
   "source": [
    "actual = pd.Series(name = \"Actual\",data = y_true.reshape(len(y_true),))\n",
    "predicted = pd.Series(name = \"Predicted\",data = y_pred.reshape(len(y_pred),))\n",
    "\n",
    "df_bar = pd.DataFrame({\"Actual\": actual, \"Predicted\": predicted})\n",
    "\n",
    "df_bar.plot(kind='bar',figsize=(10,8))\n",
    "plt.grid(which='major', linestyle='-', linewidth='0.5', color='green')\n",
    "plt.grid(which='minor', linestyle=':', linewidth='0.5', color='black')\n",
    "plt.show()"
   ]
  },
  {
   "cell_type": "markdown",
   "metadata": {},
   "source": [
    "### Random Forests Regression"
   ]
  },
  {
   "cell_type": "code",
   "execution_count": 68,
   "metadata": {},
   "outputs": [
    {
     "name": "stderr",
     "output_type": "stream",
     "text": [
      "<ipython-input-68-d1c68e2efb17>:3: DataConversionWarning: A column-vector y was passed when a 1d array was expected. Please change the shape of y to (n_samples,), for example using ravel().\n",
      "  regressor.fit(X_train, y_train)\n"
     ]
    }
   ],
   "source": [
    "from sklearn.ensemble import RandomForestRegressor\n",
    "regressor = RandomForestRegressor(n_estimators = 100)\n",
    "regressor.fit(X_train, y_train)\n",
    "y_pred = regressor.predict(X_test)\n",
    "\n",
    "y_true = y_test"
   ]
  },
  {
   "cell_type": "markdown",
   "metadata": {},
   "source": [
    "#### Pearson Coorelation Coefficent, MAE, MSE, RMSE"
   ]
  },
  {
   "cell_type": "code",
   "execution_count": 73,
   "metadata": {},
   "outputs": [
    {
     "name": "stdout",
     "output_type": "stream",
     "text": [
      "Pearson Coorelation Coefficent:  0.7982292033662802\n",
      "Mean Absolute Error: 0.5068183359860783\n",
      "Mean Squared Error: 0.4261105558091453\n",
      "Root Mean Squared Error: 0.6527714422438724\n"
     ]
    }
   ],
   "source": [
    "print(\"Pearson Coorelation Coefficent: \",calc_pearson(y_true,y_pred)[0])\n",
    "print('Mean Absolute Error:', sk.metrics.mean_absolute_error(y_test, y_pred))  \n",
    "print('Mean Squared Error:', sk.metrics.mean_squared_error(y_test, y_pred))  \n",
    "print('Root Mean Squared Error:', np.sqrt(sk.metrics.mean_squared_error(y_test, y_pred)))"
   ]
  },
  {
   "cell_type": "markdown",
   "metadata": {},
   "source": [
    "#### Observed vs Predicted Plot"
   ]
  },
  {
   "cell_type": "code",
   "execution_count": 75,
   "metadata": {},
   "outputs": [
    {
     "data": {
      "image/png": "[encoded data removed]",
      "text/plain": [
       "<Figure size 432x288 with 1 Axes>"
      ]
     },
     "metadata": {
      "needs_background": "light"
     },
     "output_type": "display_data"
    }
   ],
   "source": [
    "plt.scatter(y_pred,y_test,  color='orange')\n",
    "plt.plot([0,9], [0,9],'--', color = 'gray')\n",
    "plt.show()"
   ]
  },
  {
   "cell_type": "markdown",
   "metadata": {},
   "source": [
    "#### Actual vs Predicted Barplot"
   ]
  },
  {
   "cell_type": "code",
   "execution_count": 76,
   "metadata": {},
   "outputs": [
    {
     "data": {
      "image/png": "[encoded data removed]",
      "text/plain": [
       "<Figure size 720x576 with 1 Axes>"
      ]
     },
     "metadata": {
      "needs_background": "light"
     },
     "output_type": "display_data"
    }
   ],
   "source": [
    "actual = pd.Series(name = \"Actual\",data = y_true.reshape(len(y_true),))\n",
    "predicted = pd.Series(name = \"Predicted\",data = y_pred.reshape(len(y_pred),))\n",
    "\n",
    "df_bar = pd.DataFrame({\"Actual\": actual, \"Predicted\": predicted})\n",
    "\n",
    "df_bar.plot(kind='bar',figsize=(10,8))\n",
    "plt.grid(which='major', linestyle='-', linewidth='0.5', color='green')\n",
    "plt.grid(which='minor', linestyle=':', linewidth='0.5', color='black')\n",
    "plt.show()"
   ]
  },
  {
   "cell_type": "markdown",
   "metadata": {},
   "source": [
    "### Linear Regression with KFold"
   ]
  },
  {
   "cell_type": "markdown",
   "metadata": {},
   "source": [
    "#### Applying KFold"
   ]
  },
  {
   "cell_type": "code",
   "execution_count": 77,
   "metadata": {},
   "outputs": [],
   "source": [
    "splits = 10\n",
    "kf = ms.KFold(n_splits= splits,shuffle=True)\n",
    "\n",
    "X_trains = []\n",
    "X_tests = []\n",
    "y_trains = []\n",
    "y_tests = []\n",
    "\n",
    "for train,test in kf.split(X):\n",
    "    X_Train = X[train]\n",
    "    X_Test = X[test]\n",
    "    \n",
    "    X_trains.append(X_Train)\n",
    "    X_tests.append(X_Test)\n",
    "\n",
    "for train,test in kf.split(y):\n",
    "    y_Train = y[train]\n",
    "    y_Test = y[test]\n",
    "    \n",
    "    y_trains.append(y_Train)\n",
    "    y_tests.append(y_Test)"
   ]
  },
  {
   "cell_type": "markdown",
   "metadata": {},
   "source": [
    "#### Calculating Pearson Coorelation Coefficent, MAE, MSE, RMSE"
   ]
  },
  {
   "cell_type": "code",
   "execution_count": 78,
   "metadata": {},
   "outputs": [],
   "source": [
    "pearsonn = 0\n",
    "mae = 0\n",
    "mse = 0\n",
    "rmse = 0\n",
    "for i in range(splits):\n",
    "    X_trainee = X_trains[i]\n",
    "    y_trainee = y_trains[i]\n",
    "    regressor = LinearRegression()\n",
    "    regressor.fit(X_trainee, y_trainee);\n",
    "    X_testit = X_tests[i]\n",
    "    y_testit = y_tests[i]\n",
    "    \n",
    "    y_predd = regressor.predict(X_testit)\n",
    "    y_truee = y_testit\n",
    "    \n",
    "    pearsonn += calc_pearson(y_truee,y_predd)[0] / splits\n",
    "    mae += sk.metrics.mean_absolute_error(y_truee, y_predd) / splits\n",
    "    mse += sk.metrics.mean_squared_error(y_truee, y_predd) / splits\n",
    "    rmse += np.sqrt(sk.metrics.mean_squared_error(y_test, y_pred)) / splits"
   ]
  },
  {
   "cell_type": "code",
   "execution_count": 79,
   "metadata": {},
   "outputs": [
    {
     "name": "stdout",
     "output_type": "stream",
     "text": [
      "Pearson Coorelation Coefficent (n_splits = 10) : 0.7935477689587641\n",
      "Mean Absolute Error (n_splits = 10) : 0.6557670368109291\n",
      "Mean Squared Error (n_splits = 10) :  0.6743113968229226\n",
      "Root Mean Squared Error (n_splits = 10) :  0.6527714422438724\n"
     ]
    }
   ],
   "source": [
    "print(\"Pearson Coorelation Coefficent (n_splits = {}) : {}\".format(splits,pearsonn))\n",
    "print('Mean Absolute Error (n_splits = {}) :'.format(splits), mae)  \n",
    "print('Mean Squared Error (n_splits = {}) : '.format(splits), mse)  \n",
    "print('Root Mean Squared Error (n_splits = {}) : '.format(splits), rmse)"
   ]
  },
  {
   "cell_type": "markdown",
   "metadata": {},
   "source": [
    "#### Observed vs Predicted Plots"
   ]
  },
  {
   "cell_type": "code",
   "execution_count": 80,
   "metadata": {},
   "outputs": [
    {
     "data": {
      "image/png": "[encoded data removed]",
      "text/plain": [
       "<Figure size 432x288 with 1 Axes>"
      ]
     },
     "metadata": {
      "needs_background": "light"
     },
     "output_type": "display_data"
    },
    {
     "data": {
      "image/png": "[encoded data removed]",
      "text/plain": [
       "<Figure size 432x288 with 1 Axes>"
      ]
     },
     "metadata": {
      "needs_background": "light"
     },
     "output_type": "display_data"
    },
    {
     "data": {
      "image/png": "[encoded data removed]",
      "text/plain": [
       "<Figure size 432x288 with 1 Axes>"
      ]
     },
     "metadata": {
      "needs_background": "light"
     },
     "output_type": "display_data"
    },
    {
     "data": {
      "image/png": "[encoded data removed]",
      "text/plain": [
       "<Figure size 432x288 with 1 Axes>"
      ]
     },
     "metadata": {
      "needs_background": "light"
     },
     "output_type": "display_data"
    },
    {
     "data": {
      "image/png": "[encoded data removed]",
      "text/plain": [
       "<Figure size 432x288 with 1 Axes>"
      ]
     },
     "metadata": {
      "needs_background": "light"
     },
     "output_type": "display_data"
    },
    {
     "data": {
      "image/png": "[encoded data removed]",
      "text/plain": [
       "<Figure size 432x288 with 1 Axes>"
      ]
     },
     "metadata": {
      "needs_background": "light"
     },
     "output_type": "display_data"
    },
    {
     "data": {
      "image/png": "[encoded data removed]",
      "text/plain": [
       "<Figure size 432x288 with 1 Axes>"
      ]
     },
     "metadata": {
      "needs_background": "light"
     },
     "output_type": "display_data"
    },
    {
     "data": {
      "image/png": "[encoded data removed]",
      "text/plain": [
       "<Figure size 432x288 with 1 Axes>"
      ]
     },
     "metadata": {
      "needs_background": "light"
     },
     "output_type": "display_data"
    },
    {
     "data": {
      "image/png": "[encoded data removed]",
      "text/plain": [
       "<Figure size 432x288 with 1 Axes>"
      ]
     },
     "metadata": {
      "needs_background": "light"
     },
     "output_type": "display_data"
    },
    {
     "data": {
      "image/png": "[encoded data removed]",
      "text/plain": [
       "<Figure size 432x288 with 1 Axes>"
      ]
     },
     "metadata": {
      "needs_background": "light"
     },
     "output_type": "display_data"
    }
   ],
   "source": [
    "for i in range(splits):\n",
    "    X_trainee = X_trains[i]\n",
    "    y_trainee = y_trains[i]\n",
    "    regressor = LinearRegression()\n",
    "    regressor.fit(X_trainee, y_trainee);\n",
    "    X_testit = X_tests[i]\n",
    "    y_testit = y_tests[i]\n",
    "    \n",
    "    y_predd = regressor.predict(X_testit)\n",
    "    y_truee = y_testit\n",
    "    \n",
    "    plt.scatter(y_predd,y_truee,  color='orange')\n",
    "    plt.title(\"Fold = {}\".format(i+1))\n",
    "    plt.plot([0,9], [0,9],'--', color = 'gray')\n",
    "    plt.show()"
   ]
  },
  {
   "cell_type": "markdown",
   "metadata": {},
   "source": [
    "#### Actual vs Predicted Barplots"
   ]
  },
  {
   "cell_type": "code",
   "execution_count": 81,
   "metadata": {},
   "outputs": [
    {
     "data": {
      "image/png": "[encoded data removed]",
      "text/plain": [
       "<Figure size 720x576 with 1 Axes>"
      ]
     },
     "metadata": {
      "needs_background": "light"
     },
     "output_type": "display_data"
    },
    {
     "data": {
      "image/png": "[encoded data removed]",
      "text/plain": [
       "<Figure size 720x576 with 1 Axes>"
      ]
     },
     "metadata": {
      "needs_background": "light"
     },
     "output_type": "display_data"
    },
    {
     "data": {
      "image/png": "[encoded data removed]",
      "text/plain": [
       "<Figure size 720x576 with 1 Axes>"
      ]
     },
     "metadata": {
      "needs_background": "light"
     },
     "output_type": "display_data"
    },
    {
     "data": {
      "image/png": "[encoded data removed]",
      "text/plain": [
       "<Figure size 720x576 with 1 Axes>"
      ]
     },
     "metadata": {
      "needs_background": "light"
     },
     "output_type": "display_data"
    },
    {
     "data": {
      "image/png": "[encoded data removed]",
      "text/plain": [
       "<Figure size 720x576 with 1 Axes>"
      ]
     },
     "metadata": {
      "needs_background": "light"
     },
     "output_type": "display_data"
    },
    {
     "data": {
      "image/png": "[encoded data removed]",
      "text/plain": [
       "<Figure size 720x576 with 1 Axes>"
      ]
     },
     "metadata": {
      "needs_background": "light"
     },
     "output_type": "display_data"
    },
    {
     "data": {
      "image/png": "[encoded data removed]",
      "text/plain": [
       "<Figure size 720x576 with 1 Axes>"
      ]
     },
     "metadata": {
      "needs_background": "light"
     },
     "output_type": "display_data"
    },
    {
     "data": {
      "image/png": "[encoded data removed]",
      "text/plain": [
       "<Figure size 720x576 with 1 Axes>"
      ]
     },
     "metadata": {
      "needs_background": "light"
     },
     "output_type": "display_data"
    },
    {
     "data": {
      "image/png": "[encoded data removed]",
      "text/plain": [
       "<Figure size 720x576 with 1 Axes>"
      ]
     },
     "metadata": {
      "needs_background": "light"
     },
     "output_type": "display_data"
    },
    {
     "data": {
      "image/png": "[encoded data removed]",
      "text/plain": [
       "<Figure size 720x576 with 1 Axes>"
      ]
     },
     "metadata": {
      "needs_background": "light"
     },
     "output_type": "display_data"
    }
   ],
   "source": [
    "for i in range(splits):\n",
    "    X_trainee = X_trains[i]\n",
    "    y_trainee = y_trains[i]\n",
    "    regressor = LinearRegression()\n",
    "    regressor.fit(X_trainee, y_trainee);\n",
    "    X_testit = X_tests[i]\n",
    "    y_testit = y_tests[i]\n",
    "    \n",
    "    y_predd = regressor.predict(X_testit)\n",
    "    y_truee = y_testit\n",
    "    \n",
    "    actual = pd.Series(name = \"Actual\",data = y_truee.reshape(len(y_truee),))\n",
    "    predicted = pd.Series(name = \"Predicted\",data = y_predd.reshape(len(y_predd),))\n",
    "\n",
    "    df_bar = pd.DataFrame({\"Actual\": actual, \"Predicted\": predicted})\n",
    "\n",
    "    df_bar.plot(kind='bar',figsize=(10,8))\n",
    "    plt.title(\"Fold = {}\".format(i+1))\n",
    "    plt.grid(which='major', linestyle='-', linewidth='0.5', color='green')\n",
    "    plt.grid(which='minor', linestyle=':', linewidth='0.5', color='black')\n",
    "    plt.show()"
   ]
  }
 ],
 "metadata": {
  "kernelspec": {
   "display_name": "Python 3",
   "language": "python",
   "name": "python3"
  },
  "language_info": {
   "codemirror_mode": {
    "name": "ipython",
    "version": 3
   },
   "file_extension": ".py",
   "mimetype": "text/x-python",
   "name": "python",
   "nbconvert_exporter": "python",
   "pygments_lexer": "ipython3",
   "version": "3.8.2"
  }
 },
 "nbformat": 4,
 "nbformat_minor": 4
}
